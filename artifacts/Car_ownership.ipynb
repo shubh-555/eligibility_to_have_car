{
 "cells": [
  {
   "cell_type": "code",
   "execution_count": 1,
   "id": "8e6b42f6",
   "metadata": {},
   "outputs": [],
   "source": [
    "import pandas as pd\n",
    "import numpy as np \n",
    "import matplotlib.pyplot as plt\n",
    "import seaborn as sns\n",
    "import re\n",
    "from sklearn.impute import KNNImputer\n",
    "from sklearn.decomposition import PCA\n",
    "from imblearn.over_sampling import RandomOverSampler\n",
    "from sklearn.model_selection import train_test_split,RandomizedSearchCV,GridSearchCV\n",
    "from sklearn.linear_model import LogisticRegression\n",
    "from sklearn.metrics import accuracy_score,confusion_matrix,classification_report\n",
    "from sklearn.tree import DecisionTreeClassifier\n",
    "from sklearn.ensemble import RandomForestClassifier,AdaBoostClassifier\n",
    "from sklearn.neighbors import KNeighborsClassifier\n",
    "from sklearn.preprocessing import MinMaxScaler"
   ]
  },
  {
   "cell_type": "markdown",
   "id": "a373930d",
   "metadata": {},
   "source": [
    "# problem statement"
   ]
  },
  {
   "cell_type": "raw",
   "id": "6868020a",
   "metadata": {},
   "source": [
    " To predict the car ownership i.e whom have car or not by using this features\n",
    "\n",
    "features : {'Occupation', 'Monthly Income', 'Credit Score',\n",
    "   'Years of Employment', 'Finance Status', 'Finance History', 'Car',\n",
    "   'Number of Children'}"
   ]
  },
  {
   "cell_type": "markdown",
   "id": "7ccc3cf2",
   "metadata": {},
   "source": [
    "# Data Gathering"
   ]
  },
  {
   "cell_type": "code",
   "execution_count": 2,
   "id": "bd822528",
   "metadata": {
    "scrolled": true
   },
   "outputs": [
    {
     "data": {
      "text/html": [
       "<div>\n",
       "<style scoped>\n",
       "    .dataframe tbody tr th:only-of-type {\n",
       "        vertical-align: middle;\n",
       "    }\n",
       "\n",
       "    .dataframe tbody tr th {\n",
       "        vertical-align: top;\n",
       "    }\n",
       "\n",
       "    .dataframe thead th {\n",
       "        text-align: right;\n",
       "    }\n",
       "</style>\n",
       "<table border=\"1\" class=\"dataframe\">\n",
       "  <thead>\n",
       "    <tr style=\"text-align: right;\">\n",
       "      <th></th>\n",
       "      <th>Occupation</th>\n",
       "      <th>Monthly Income</th>\n",
       "      <th>Credit Score</th>\n",
       "      <th>Years of Employment</th>\n",
       "      <th>Finance Status</th>\n",
       "      <th>Finance History</th>\n",
       "      <th>Car</th>\n",
       "      <th>Number of Children</th>\n",
       "    </tr>\n",
       "  </thead>\n",
       "  <tbody>\n",
       "    <tr>\n",
       "      <th>0</th>\n",
       "      <td>Teacher</td>\n",
       "      <td>40000</td>\n",
       "      <td>750.0</td>\n",
       "      <td>10</td>\n",
       "      <td>Good</td>\n",
       "      <td>No issues</td>\n",
       "      <td>Yes</td>\n",
       "      <td>2</td>\n",
       "    </tr>\n",
       "    <tr>\n",
       "      <th>1</th>\n",
       "      <td>Engineer</td>\n",
       "      <td>60000</td>\n",
       "      <td>800.0</td>\n",
       "      <td>8</td>\n",
       "      <td>Good</td>\n",
       "      <td>No issues</td>\n",
       "      <td>Yes</td>\n",
       "      <td>1</td>\n",
       "    </tr>\n",
       "    <tr>\n",
       "      <th>2</th>\n",
       "      <td>Nurse</td>\n",
       "      <td>25000</td>\n",
       "      <td>650.0</td>\n",
       "      <td>5</td>\n",
       "      <td>Fair</td>\n",
       "      <td>Late payment 2 months ago</td>\n",
       "      <td>No</td>\n",
       "      <td>0</td>\n",
       "    </tr>\n",
       "    <tr>\n",
       "      <th>3</th>\n",
       "      <td>Doctor</td>\n",
       "      <td>80000</td>\n",
       "      <td>900.0</td>\n",
       "      <td>12</td>\n",
       "      <td>Excellent</td>\n",
       "      <td>No issues</td>\n",
       "      <td>Yes</td>\n",
       "      <td>3</td>\n",
       "    </tr>\n",
       "    <tr>\n",
       "      <th>4</th>\n",
       "      <td>Businessman</td>\n",
       "      <td>100000</td>\n",
       "      <td>700.0</td>\n",
       "      <td>15</td>\n",
       "      <td>Good</td>\n",
       "      <td>Late payment 6 months ago</td>\n",
       "      <td>Yes</td>\n",
       "      <td>2</td>\n",
       "    </tr>\n",
       "    <tr>\n",
       "      <th>...</th>\n",
       "      <td>...</td>\n",
       "      <td>...</td>\n",
       "      <td>...</td>\n",
       "      <td>...</td>\n",
       "      <td>...</td>\n",
       "      <td>...</td>\n",
       "      <td>...</td>\n",
       "      <td>...</td>\n",
       "    </tr>\n",
       "    <tr>\n",
       "      <th>495</th>\n",
       "      <td>Project Manager</td>\n",
       "      <td>$7,000</td>\n",
       "      <td>730.0</td>\n",
       "      <td>5 years</td>\n",
       "      <td>Stable</td>\n",
       "      <td>No significant issues</td>\n",
       "      <td>Yes</td>\n",
       "      <td>0</td>\n",
       "    </tr>\n",
       "    <tr>\n",
       "      <th>496</th>\n",
       "      <td>Chef</td>\n",
       "      <td>$4,500</td>\n",
       "      <td>680.0</td>\n",
       "      <td>4 years</td>\n",
       "      <td>Stable</td>\n",
       "      <td>No significant issues</td>\n",
       "      <td>Yes</td>\n",
       "      <td>0</td>\n",
       "    </tr>\n",
       "    <tr>\n",
       "      <th>497</th>\n",
       "      <td>Interior Designer</td>\n",
       "      <td>$5,500</td>\n",
       "      <td>690.0</td>\n",
       "      <td>4 years</td>\n",
       "      <td>Stable</td>\n",
       "      <td>No significant issues</td>\n",
       "      <td>Yes</td>\n",
       "      <td>1</td>\n",
       "    </tr>\n",
       "    <tr>\n",
       "      <th>498</th>\n",
       "      <td>Medical Assistant</td>\n",
       "      <td>$3,500</td>\n",
       "      <td>640.0</td>\n",
       "      <td>3 years</td>\n",
       "      <td>Stable</td>\n",
       "      <td>No significant issues</td>\n",
       "      <td>No</td>\n",
       "      <td>1</td>\n",
       "    </tr>\n",
       "    <tr>\n",
       "      <th>499</th>\n",
       "      <td>Customer Service Rep</td>\n",
       "      <td>$3,200</td>\n",
       "      <td>641.0</td>\n",
       "      <td>4 years</td>\n",
       "      <td>Stable</td>\n",
       "      <td>No significant issues</td>\n",
       "      <td>No</td>\n",
       "      <td>2</td>\n",
       "    </tr>\n",
       "  </tbody>\n",
       "</table>\n",
       "<p>500 rows × 8 columns</p>\n",
       "</div>"
      ],
      "text/plain": [
       "               Occupation Monthly Income  Credit Score Years of Employment  \\\n",
       "0                 Teacher          40000         750.0                  10   \n",
       "1                Engineer          60000         800.0                   8   \n",
       "2                   Nurse          25000         650.0                   5   \n",
       "3                  Doctor          80000         900.0                  12   \n",
       "4             Businessman         100000         700.0                  15   \n",
       "..                    ...            ...           ...                 ...   \n",
       "495       Project Manager        $7,000          730.0             5 years   \n",
       "496                  Chef        $4,500          680.0             4 years   \n",
       "497     Interior Designer        $5,500          690.0             4 years   \n",
       "498     Medical Assistant        $3,500          640.0             3 years   \n",
       "499  Customer Service Rep        $3,200          641.0             4 years   \n",
       "\n",
       "    Finance Status            Finance History  Car Number of Children  \n",
       "0             Good                  No issues  Yes                  2  \n",
       "1             Good                  No issues  Yes                  1  \n",
       "2             Fair  Late payment 2 months ago   No                  0  \n",
       "3        Excellent                  No issues  Yes                  3  \n",
       "4             Good  Late payment 6 months ago  Yes                  2  \n",
       "..             ...                        ...  ...                ...  \n",
       "495         Stable      No significant issues  Yes                  0  \n",
       "496         Stable      No significant issues  Yes                  0  \n",
       "497         Stable      No significant issues  Yes                  1  \n",
       "498         Stable      No significant issues   No                  1  \n",
       "499         Stable      No significant issues   No                  2  \n",
       "\n",
       "[500 rows x 8 columns]"
      ]
     },
     "execution_count": 2,
     "metadata": {},
     "output_type": "execute_result"
    }
   ],
   "source": [
    "df = pd.read_csv('Car Ownership.csv')\n",
    "df"
   ]
  },
  {
   "cell_type": "code",
   "execution_count": 3,
   "id": "92569ada",
   "metadata": {},
   "outputs": [
    {
     "data": {
      "text/plain": [
       "50       Financial Analyst\n",
       "51             Electrician\n",
       "52         Human Resources\n",
       "53                 Plumber\n",
       "54           Social Worker\n",
       "55          Data Scientist\n",
       "56                    Chef\n",
       "57        Customer Service\n",
       "58            Veterinarian\n",
       "59        Graphic Designer\n",
       "60               Architect\n",
       "61                    Chef\n",
       "62            Web Designer\n",
       "63         Insurance Agent\n",
       "64    Sales Representative\n",
       "65                Musician\n",
       "66       Marketing Manager\n",
       "67       Software Engineer\n",
       "68                    Chef\n",
       "69        Dental Hygienist\n",
       "70          Retail Manager\n",
       "71                    Chef\n",
       "72                     NaN\n",
       "73       Financial Analyst\n",
       "74             Electrician\n",
       "75         Human Resources\n",
       "76                 Plumber\n",
       "77           Social Worker\n",
       "78          Data Scientist\n",
       "79                    Chef\n",
       "80        Customer Service\n",
       "81            Veterinarian\n",
       "82        Graphic Designer\n",
       "83               Architect\n",
       "84                    Chef\n",
       "85            Web Designer\n",
       "86         Insurance Agent\n",
       "87    Sales Representative\n",
       "88                Musician\n",
       "89       Marketing Manager\n",
       "90       Software Engineer\n",
       "91                    Chef\n",
       "92        Dental Hygienist\n",
       "93                     NaN\n",
       "94        Personal Trainer\n",
       "95              Pharmacist\n",
       "96                 Teacher\n",
       "97     Computer Programmer\n",
       "98                    Chef\n",
       "99      Physical Therapist\n",
       "Name: Occupation, dtype: object"
      ]
     },
     "execution_count": 3,
     "metadata": {},
     "output_type": "execute_result"
    }
   ],
   "source": [
    "df['Occupation'][50:100]"
   ]
  },
  {
   "cell_type": "markdown",
   "id": "122033d9",
   "metadata": {},
   "source": [
    "# EDA"
   ]
  },
  {
   "cell_type": "code",
   "execution_count": 4,
   "id": "d4cee37d",
   "metadata": {},
   "outputs": [
    {
     "name": "stdout",
     "output_type": "stream",
     "text": [
      "<class 'pandas.core.frame.DataFrame'>\n",
      "RangeIndex: 500 entries, 0 to 499\n",
      "Data columns (total 8 columns):\n",
      " #   Column               Non-Null Count  Dtype  \n",
      "---  ------               --------------  -----  \n",
      " 0   Occupation           490 non-null    object \n",
      " 1   Monthly Income       487 non-null    object \n",
      " 2   Credit Score         460 non-null    float64\n",
      " 3   Years of Employment  457 non-null    object \n",
      " 4   Finance Status       477 non-null    object \n",
      " 5   Finance History      472 non-null    object \n",
      " 6   Car                  480 non-null    object \n",
      " 7   Number of Children   375 non-null    object \n",
      "dtypes: float64(1), object(7)\n",
      "memory usage: 31.4+ KB\n"
     ]
    }
   ],
   "source": [
    "df.info()"
   ]
  },
  {
   "cell_type": "code",
   "execution_count": 5,
   "id": "44f2ba76",
   "metadata": {
    "scrolled": true
   },
   "outputs": [
    {
     "data": {
      "text/plain": [
       "Occupation              2.0\n",
       "Monthly Income          2.6\n",
       "Credit Score            8.0\n",
       "Years of Employment     8.6\n",
       "Finance Status          4.6\n",
       "Finance History         5.6\n",
       "Car                     4.0\n",
       "Number of Children     25.0\n",
       "dtype: float64"
      ]
     },
     "execution_count": 5,
     "metadata": {},
     "output_type": "execute_result"
    }
   ],
   "source": [
    "df.isna().sum()/len(df)*100"
   ]
  },
  {
   "cell_type": "code",
   "execution_count": 6,
   "id": "0bba3934",
   "metadata": {},
   "outputs": [
    {
     "data": {
      "text/plain": [
       "Occupation              object\n",
       "Monthly Income          object\n",
       "Credit Score           float64\n",
       "Years of Employment     object\n",
       "Finance Status          object\n",
       "Finance History         object\n",
       "Car                     object\n",
       "Number of Children      object\n",
       "dtype: object"
      ]
     },
     "execution_count": 6,
     "metadata": {},
     "output_type": "execute_result"
    }
   ],
   "source": [
    "df.dtypes"
   ]
  },
  {
   "cell_type": "code",
   "execution_count": 7,
   "id": "682d1589",
   "metadata": {},
   "outputs": [
    {
     "data": {
      "text/plain": [
       "Yes    60.2\n",
       "No     35.8\n",
       "Name: Car, dtype: float64"
      ]
     },
     "execution_count": 7,
     "metadata": {},
     "output_type": "execute_result"
    }
   ],
   "source": [
    "df['Car'].value_counts()/len(df)*100"
   ]
  },
  {
   "cell_type": "markdown",
   "id": "82b40c27",
   "metadata": {},
   "source": [
    "# feature engineering"
   ]
  },
  {
   "cell_type": "markdown",
   "id": "5d961a6f",
   "metadata": {},
   "source": [
    "# car"
   ]
  },
  {
   "cell_type": "code",
   "execution_count": 8,
   "id": "428f31bf",
   "metadata": {},
   "outputs": [
    {
     "data": {
      "text/plain": [
       "20"
      ]
     },
     "execution_count": 8,
     "metadata": {},
     "output_type": "execute_result"
    }
   ],
   "source": [
    "df['Car'].isna().sum()"
   ]
  },
  {
   "cell_type": "code",
   "execution_count": 9,
   "id": "ccee8498",
   "metadata": {},
   "outputs": [],
   "source": [
    "df['Car'].fillna(df['Car'].mode()[0],inplace =True)"
   ]
  },
  {
   "cell_type": "code",
   "execution_count": 10,
   "id": "dc49cf19",
   "metadata": {},
   "outputs": [
    {
     "data": {
      "text/plain": [
       "0"
      ]
     },
     "execution_count": 10,
     "metadata": {},
     "output_type": "execute_result"
    }
   ],
   "source": [
    "df['Car'].isna().sum()"
   ]
  },
  {
   "cell_type": "code",
   "execution_count": 11,
   "id": "61f67f1e",
   "metadata": {},
   "outputs": [],
   "source": [
    "df['Car'].value_counts().to_dict()\n",
    "df['Car'].replace({'Yes': 1, 'No': 0},inplace=True)"
   ]
  },
  {
   "cell_type": "code",
   "execution_count": 12,
   "id": "b25e7575",
   "metadata": {},
   "outputs": [],
   "source": [
    "df['Car'] = df[\"Car\"].astype(int)"
   ]
  },
  {
   "cell_type": "markdown",
   "id": "87e51f91",
   "metadata": {},
   "source": [
    "# monthly income"
   ]
  },
  {
   "cell_type": "code",
   "execution_count": 13,
   "id": "c0194a1a",
   "metadata": {},
   "outputs": [],
   "source": [
    "df['Monthly Income'] = df['Monthly Income'].astype(str)"
   ]
  },
  {
   "cell_type": "code",
   "execution_count": 14,
   "id": "6e23ded9",
   "metadata": {},
   "outputs": [],
   "source": [
    "import re\n",
    "df['Monthly Income'] = df['Monthly Income'].apply(lambda x : re.sub('[^0-9]','',x))"
   ]
  },
  {
   "cell_type": "code",
   "execution_count": 15,
   "id": "5c415db6",
   "metadata": {},
   "outputs": [],
   "source": [
    "df.loc[df['Monthly Income']=='','Monthly Income'] = '0'"
   ]
  },
  {
   "cell_type": "code",
   "execution_count": 16,
   "id": "cafea9fa",
   "metadata": {},
   "outputs": [
    {
     "data": {
      "text/plain": [
       "Series([], Name: Monthly Income, dtype: object)"
      ]
     },
     "execution_count": 16,
     "metadata": {},
     "output_type": "execute_result"
    }
   ],
   "source": [
    "df.loc[df['Monthly Income']=='','Monthly Income'] "
   ]
  },
  {
   "cell_type": "code",
   "execution_count": 17,
   "id": "050eddaa",
   "metadata": {},
   "outputs": [],
   "source": [
    "df['Monthly Income'] = df['Monthly Income'].astype(int)"
   ]
  },
  {
   "cell_type": "code",
   "execution_count": 18,
   "id": "b59f6872",
   "metadata": {},
   "outputs": [],
   "source": [
    "df.loc[df['Monthly Income'] == 0,'Monthly Income'] = np.nan"
   ]
  },
  {
   "cell_type": "code",
   "execution_count": null,
   "id": "bf576693",
   "metadata": {},
   "outputs": [],
   "source": []
  },
  {
   "cell_type": "markdown",
   "id": "77932f08",
   "metadata": {},
   "source": [
    "# 'Years of Employment'"
   ]
  },
  {
   "cell_type": "code",
   "execution_count": 19,
   "id": "f4c26894",
   "metadata": {},
   "outputs": [
    {
     "data": {
      "text/plain": [
       "4 years     74\n",
       "3 years     58\n",
       "2 years     54\n",
       "5 years     53\n",
       "6 years     49\n",
       "1 year      39\n",
       "7 years     31\n",
       "8 years     13\n",
       "3            9\n",
       "10           8\n",
       "1            7\n",
       "8            7\n",
       "9 years      6\n",
       "5            6\n",
       "2            5\n",
       "4            4\n",
       "6            4\n",
       "10 years     4\n",
       "12           4\n",
       "7            3\n",
       "7 y          2\n",
       "2 year       2\n",
       "2 y          2\n",
       "15           2\n",
       "20           2\n",
       "3 year       1\n",
       "6 year       1\n",
       "12 years     1\n",
       "3 y          1\n",
       "11 years     1\n",
       "7 year       1\n",
       "8 year       1\n",
       "4 year       1\n",
       "5 year       1\n",
       "Name: Years of Employment, dtype: int64"
      ]
     },
     "execution_count": 19,
     "metadata": {},
     "output_type": "execute_result"
    }
   ],
   "source": [
    "df['Years of Employment'].value_counts()"
   ]
  },
  {
   "cell_type": "code",
   "execution_count": 20,
   "id": "5558721d",
   "metadata": {},
   "outputs": [],
   "source": [
    "df['Years of Employment']= df['Years of Employment'].astype(str)"
   ]
  },
  {
   "cell_type": "code",
   "execution_count": 21,
   "id": "58f4e34f",
   "metadata": {},
   "outputs": [
    {
     "data": {
      "text/plain": [
       "4 years     74\n",
       "3 years     58\n",
       "2 years     54\n",
       "5 years     53\n",
       "6 years     49\n",
       "nan         43\n",
       "1 year      39\n",
       "7 years     31\n",
       "8 years     13\n",
       "3            9\n",
       "10           8\n",
       "1            7\n",
       "8            7\n",
       "9 years      6\n",
       "5            6\n",
       "2            5\n",
       "4            4\n",
       "6            4\n",
       "10 years     4\n",
       "12           4\n",
       "7            3\n",
       "7 y          2\n",
       "2 year       2\n",
       "2 y          2\n",
       "15           2\n",
       "20           2\n",
       "3 year       1\n",
       "6 year       1\n",
       "12 years     1\n",
       "3 y          1\n",
       "11 years     1\n",
       "7 year       1\n",
       "8 year       1\n",
       "4 year       1\n",
       "5 year       1\n",
       "Name: Years of Employment, dtype: int64"
      ]
     },
     "execution_count": 21,
     "metadata": {},
     "output_type": "execute_result"
    }
   ],
   "source": [
    "df['Years of Employment'].value_counts()"
   ]
  },
  {
   "cell_type": "code",
   "execution_count": 22,
   "id": "46a5ddae",
   "metadata": {},
   "outputs": [],
   "source": [
    "df['Years of Employment']=df['Years of Employment'].apply(lambda x :re.sub('year|years|s|y','',x))"
   ]
  },
  {
   "cell_type": "code",
   "execution_count": 23,
   "id": "0ca04f57",
   "metadata": {},
   "outputs": [],
   "source": [
    "df['Years of Employment']=df['Years of Employment'].apply(lambda x :re.sub('nan','0',x))"
   ]
  },
  {
   "cell_type": "code",
   "execution_count": 24,
   "id": "00900962",
   "metadata": {},
   "outputs": [],
   "source": [
    "df['Years of Employment']=df['Years of Employment'].apply(lambda x :re.sub(' ','',x))"
   ]
  },
  {
   "cell_type": "code",
   "execution_count": 25,
   "id": "beeeacb2",
   "metadata": {},
   "outputs": [],
   "source": [
    "df['Years of Employment'] = df['Years of Employment'].astype(int)"
   ]
  },
  {
   "cell_type": "code",
   "execution_count": 26,
   "id": "c3d7f197",
   "metadata": {},
   "outputs": [],
   "source": [
    "df.loc[df['Years of Employment'] == 0 , 'Years of Employment'] = np.nan"
   ]
  },
  {
   "cell_type": "markdown",
   "id": "b447405f",
   "metadata": {},
   "source": [
    "# 'Finance Status'"
   ]
  },
  {
   "cell_type": "code",
   "execution_count": 27,
   "id": "f1387710",
   "metadata": {},
   "outputs": [
    {
     "data": {
      "text/plain": [
       "Stable       304\n",
       "Unstable      87\n",
       "Fair          28\n",
       "Good          26\n",
       "Excellent     22\n",
       "Poor           8\n",
       "Unknow         1\n",
       "Unkonw         1\n",
       "Name: Finance Status, dtype: int64"
      ]
     },
     "execution_count": 27,
     "metadata": {},
     "output_type": "execute_result"
    }
   ],
   "source": [
    "df['Finance Status'].value_counts()"
   ]
  },
  {
   "cell_type": "code",
   "execution_count": 28,
   "id": "a806fe7b",
   "metadata": {},
   "outputs": [],
   "source": [
    "df['Finance Status'].replace({'Unknow':'Unknown',\n",
    "                            'Unkonw':'Unknown'},inplace= True)"
   ]
  },
  {
   "cell_type": "code",
   "execution_count": 29,
   "id": "777ba6ca",
   "metadata": {},
   "outputs": [
    {
     "data": {
      "text/plain": [
       "{'Stable': 304,\n",
       " 'Unstable': 87,\n",
       " 'Fair': 28,\n",
       " 'Good': 26,\n",
       " 'Excellent': 22,\n",
       " 'Poor': 8,\n",
       " 'Unknown': 2}"
      ]
     },
     "execution_count": 29,
     "metadata": {},
     "output_type": "execute_result"
    }
   ],
   "source": [
    "df['Finance Status'].value_counts().to_dict()"
   ]
  },
  {
   "cell_type": "code",
   "execution_count": 30,
   "id": "e9d4de18",
   "metadata": {},
   "outputs": [],
   "source": [
    "\n",
    "df['Finance Status'].replace({'Stable': 4,\n",
    " 'Unstable': 1,\n",
    " 'Fair': 2,\n",
    " 'Good': 3,\n",
    " 'Excellent': 5,\n",
    " 'Poor': 0,\n",
    " 'Unknown': 6,},inplace=True)"
   ]
  },
  {
   "cell_type": "markdown",
   "id": "12f2f773",
   "metadata": {},
   "source": [
    "# 'Finance History'"
   ]
  },
  {
   "cell_type": "code",
   "execution_count": 31,
   "id": "40a10194",
   "metadata": {},
   "outputs": [
    {
     "data": {
      "text/plain": [
       "{'No significant issues': 313,\n",
       " 'Missed payments in the past': 52,\n",
       " 'Late payments': 31,\n",
       " 'Late payments, collections': 17,\n",
       " 'No issues': 12,\n",
       " 'Poor': 12,\n",
       " 'Excellent': 10,\n",
       " 'Good': 8,\n",
       " 'Fair': 6,\n",
       " 'Late payment 2 months ago': 2,\n",
       " 'Late payment 6 months ago': 2,\n",
       " 'Late payment 3 months ago': 2,\n",
       " 'Late payment 1 month ago': 2,\n",
       " 'Late payment': 1,\n",
       " 'No significant issue': 1,\n",
       " 'Missed payments, collections, charge-offs': 1}"
      ]
     },
     "execution_count": 31,
     "metadata": {},
     "output_type": "execute_result"
    }
   ],
   "source": [
    "df['Finance History'].value_counts().to_dict()"
   ]
  },
  {
   "cell_type": "code",
   "execution_count": 32,
   "id": "e084bdc8",
   "metadata": {},
   "outputs": [
    {
     "data": {
      "text/plain": [
       "28"
      ]
     },
     "execution_count": 32,
     "metadata": {},
     "output_type": "execute_result"
    }
   ],
   "source": [
    "df['Finance History'].isna().sum()"
   ]
  },
  {
   "cell_type": "code",
   "execution_count": 33,
   "id": "f71d68c5",
   "metadata": {},
   "outputs": [],
   "source": [
    "df['Finance History'].fillna(df['Finance History'].mode()[0],inplace=True)"
   ]
  },
  {
   "cell_type": "code",
   "execution_count": 34,
   "id": "706e3468",
   "metadata": {},
   "outputs": [
    {
     "data": {
      "text/plain": [
       "0"
      ]
     },
     "execution_count": 34,
     "metadata": {},
     "output_type": "execute_result"
    }
   ],
   "source": [
    "df['Finance History'].isna().sum()"
   ]
  },
  {
   "cell_type": "code",
   "execution_count": 35,
   "id": "b9705cac",
   "metadata": {},
   "outputs": [],
   "source": [
    "df['Finance History'].replace({'No significant issues':'Good' ,\n",
    "                             'Missed payments in the past':'Poor',\n",
    "                             'Late payments':'Poor',\n",
    "                             'Late payments, collections': 'Fair',\n",
    "                             'No issues': 'Excellent',\n",
    "#                              'Poor':'Poor',\n",
    "#                              'Excellent':'Excellent',\n",
    "#                              'Good': 'Good',\n",
    "#                              'Fair': 'Fair',\n",
    "                             'Late payment 2 months ago': 'Fair',\n",
    "                             'Late payment 6 months ago': 'Fair',\n",
    "                             'Late payment 3 months ago': 'Fair',\n",
    "                             'Late payment 1 month ago':  'Fair',\n",
    "                             'Late payment': 'Poor',\n",
    "                             'No significant issue': 'Good',\n",
    "                             'Missed payments, collections, charge-offs': 'Fair'},inplace = True )"
   ]
  },
  {
   "cell_type": "code",
   "execution_count": 36,
   "id": "999b63ea",
   "metadata": {},
   "outputs": [
    {
     "data": {
      "text/plain": [
       "{'Good': 350, 'Poor': 96, 'Fair': 32, 'Excellent': 22}"
      ]
     },
     "execution_count": 36,
     "metadata": {},
     "output_type": "execute_result"
    }
   ],
   "source": [
    "df['Finance History'].value_counts().to_dict()"
   ]
  },
  {
   "cell_type": "code",
   "execution_count": 37,
   "id": "408ed7f8",
   "metadata": {
    "scrolled": true
   },
   "outputs": [],
   "source": [
    "df['Finance History'].replace({'Good': 3, 'Poor': 0, 'Fair': 1, 'Excellent': 4},inplace = True)"
   ]
  },
  {
   "cell_type": "markdown",
   "id": "7901b574",
   "metadata": {},
   "source": [
    "# Occupation"
   ]
  },
  {
   "cell_type": "code",
   "execution_count": 38,
   "id": "29407cf0",
   "metadata": {},
   "outputs": [
    {
     "data": {
      "text/plain": [
       "10"
      ]
     },
     "execution_count": 38,
     "metadata": {},
     "output_type": "execute_result"
    }
   ],
   "source": [
    "df['Occupation'].isna().sum()"
   ]
  },
  {
   "cell_type": "code",
   "execution_count": 39,
   "id": "b11d5408",
   "metadata": {},
   "outputs": [],
   "source": [
    "df['Occupation'].fillna(df['Occupation'].mode()[0],inplace =True)"
   ]
  },
  {
   "cell_type": "code",
   "execution_count": 40,
   "id": "4520266c",
   "metadata": {},
   "outputs": [
    {
     "data": {
      "text/plain": [
       "0"
      ]
     },
     "execution_count": 40,
     "metadata": {},
     "output_type": "execute_result"
    }
   ],
   "source": [
    "df['Occupation'].isna().sum()"
   ]
  },
  {
   "cell_type": "code",
   "execution_count": 41,
   "id": "2cdb0aff",
   "metadata": {},
   "outputs": [
    {
     "data": {
      "text/plain": [
       "['Account Executive',\n",
       " 'Account Manager',\n",
       " 'Accountant',\n",
       " 'Architect',\n",
       " 'Art Director',\n",
       " 'Attorney',\n",
       " 'Automotive Mechanic',\n",
       " 'Bank Teller',\n",
       " 'Barista',\n",
       " 'Bartender',\n",
       " 'Business Analyst',\n",
       " 'Business Owner',\n",
       " 'Businessman',\n",
       " 'Carpenter',\n",
       " 'Chef',\n",
       " 'Civil Engineer',\n",
       " 'Computer Programmer',\n",
       " 'Computer Technician',\n",
       " 'Construction Worker',\n",
       " 'Copywriter',\n",
       " 'Customer Service',\n",
       " 'Customer Service Rep',\n",
       " 'Customer Support',\n",
       " 'Data Analyst',\n",
       " 'Data Scientist',\n",
       " 'Dental Assistant',\n",
       " 'Dental Hygienist',\n",
       " 'Dentist',\n",
       " 'Designer',\n",
       " 'Doctor',\n",
       " 'Electrical Engineer',\n",
       " 'Electrician',\n",
       " 'Elementary School Teacher',\n",
       " 'Engineer',\n",
       " 'Entrepreneur',\n",
       " 'Event Planner',\n",
       " 'Executive Assistant',\n",
       " 'Fashion Designer',\n",
       " 'Financial Advisor',\n",
       " 'Financial Analyst',\n",
       " 'Financial Manager',\n",
       " 'Financial Planner',\n",
       " 'Fitness Instructor',\n",
       " 'Flight Attendant',\n",
       " 'Graphic Artist',\n",
       " 'Graphic Design',\n",
       " 'Graphic Designer',\n",
       " 'HR Generalist',\n",
       " 'HR Manager',\n",
       " 'HR Specialist',\n",
       " 'Hair Stylist',\n",
       " 'Hairdresser',\n",
       " 'Human Resources',\n",
       " 'Human Resources Manager',\n",
       " 'IT Consultant',\n",
       " 'IT Manager',\n",
       " 'IT Support Specialist',\n",
       " 'Insurance Agent',\n",
       " 'Insurance Underwriter',\n",
       " 'Interior Designer',\n",
       " 'Investment Banker',\n",
       " 'Lawyer',\n",
       " 'Librarian',\n",
       " 'Management Consultant',\n",
       " 'Marketing',\n",
       " 'Marketing Analyst',\n",
       " 'Marketing Coordinator',\n",
       " 'Marketing Exec',\n",
       " 'Marketing Manager',\n",
       " 'Marketing Specialist',\n",
       " 'Mechanic',\n",
       " 'Mechanical Designer',\n",
       " 'Mechanical Engineer',\n",
       " 'Mechanical Technician',\n",
       " 'Medical Assistant',\n",
       " 'Musician',\n",
       " 'Nurse',\n",
       " 'Nurse Practitioner',\n",
       " 'Office Manager',\n",
       " 'Optometrist',\n",
       " 'Personal Trainer',\n",
       " 'Pharmacist',\n",
       " 'Photographer',\n",
       " 'Physical Education Teacher',\n",
       " 'Physical Therapist',\n",
       " 'Physical Therapist Assistant',\n",
       " 'Physical Trainer',\n",
       " 'Physician',\n",
       " 'Physician Assistant',\n",
       " 'Pilot',\n",
       " 'Plumber',\n",
       " 'Police Officer',\n",
       " 'Project Manager',\n",
       " 'Psychologist',\n",
       " 'Public Relations',\n",
       " 'Real Estate Ag',\n",
       " 'Real Estate Agent',\n",
       " 'Registered Nurse',\n",
       " 'Retail Manager',\n",
       " 'Retail Salesperson',\n",
       " 'Sales Manager',\n",
       " 'Sales Representative',\n",
       " 'Salesperson',\n",
       " 'Social Media Manager',\n",
       " 'Social Worker',\n",
       " 'Software Architect',\n",
       " 'Software Dev',\n",
       " 'Software Developer',\n",
       " 'Software Engineer',\n",
       " 'Teacher',\n",
       " 'Veterinarian',\n",
       " 'Veterinarian Technician',\n",
       " 'Waiter/Waitress',\n",
       " 'Web Designer',\n",
       " 'Web Developer',\n",
       " 'Writer']"
      ]
     },
     "execution_count": 41,
     "metadata": {},
     "output_type": "execute_result"
    }
   ],
   "source": [
    "np.sort(df['Occupation'].unique()).tolist()"
   ]
  },
  {
   "cell_type": "code",
   "execution_count": 42,
   "id": "27bfe289",
   "metadata": {},
   "outputs": [
    {
     "data": {
      "text/html": [
       "<div>\n",
       "<style scoped>\n",
       "    .dataframe tbody tr th:only-of-type {\n",
       "        vertical-align: middle;\n",
       "    }\n",
       "\n",
       "    .dataframe tbody tr th {\n",
       "        vertical-align: top;\n",
       "    }\n",
       "\n",
       "    .dataframe thead th {\n",
       "        text-align: right;\n",
       "    }\n",
       "</style>\n",
       "<table border=\"1\" class=\"dataframe\">\n",
       "  <thead>\n",
       "    <tr style=\"text-align: right;\">\n",
       "      <th></th>\n",
       "      <th>Monthly Income</th>\n",
       "      <th>Credit Score</th>\n",
       "      <th>Years of Employment</th>\n",
       "      <th>Finance Status</th>\n",
       "      <th>Finance History</th>\n",
       "      <th>Car</th>\n",
       "      <th>Number of Children</th>\n",
       "      <th>Occupation_Account Executive</th>\n",
       "      <th>Occupation_Account Manager</th>\n",
       "      <th>Occupation_Accountant</th>\n",
       "      <th>...</th>\n",
       "      <th>Occupation_Software Dev</th>\n",
       "      <th>Occupation_Software Developer</th>\n",
       "      <th>Occupation_Software Engineer</th>\n",
       "      <th>Occupation_Teacher</th>\n",
       "      <th>Occupation_Veterinarian</th>\n",
       "      <th>Occupation_Veterinarian Technician</th>\n",
       "      <th>Occupation_Waiter/Waitress</th>\n",
       "      <th>Occupation_Web Designer</th>\n",
       "      <th>Occupation_Web Developer</th>\n",
       "      <th>Occupation_Writer</th>\n",
       "    </tr>\n",
       "  </thead>\n",
       "  <tbody>\n",
       "    <tr>\n",
       "      <th>0</th>\n",
       "      <td>40000.0</td>\n",
       "      <td>750.0</td>\n",
       "      <td>10.0</td>\n",
       "      <td>3.0</td>\n",
       "      <td>4</td>\n",
       "      <td>1</td>\n",
       "      <td>2</td>\n",
       "      <td>0</td>\n",
       "      <td>0</td>\n",
       "      <td>0</td>\n",
       "      <td>...</td>\n",
       "      <td>0</td>\n",
       "      <td>0</td>\n",
       "      <td>0</td>\n",
       "      <td>1</td>\n",
       "      <td>0</td>\n",
       "      <td>0</td>\n",
       "      <td>0</td>\n",
       "      <td>0</td>\n",
       "      <td>0</td>\n",
       "      <td>0</td>\n",
       "    </tr>\n",
       "    <tr>\n",
       "      <th>1</th>\n",
       "      <td>60000.0</td>\n",
       "      <td>800.0</td>\n",
       "      <td>8.0</td>\n",
       "      <td>3.0</td>\n",
       "      <td>4</td>\n",
       "      <td>1</td>\n",
       "      <td>1</td>\n",
       "      <td>0</td>\n",
       "      <td>0</td>\n",
       "      <td>0</td>\n",
       "      <td>...</td>\n",
       "      <td>0</td>\n",
       "      <td>0</td>\n",
       "      <td>0</td>\n",
       "      <td>0</td>\n",
       "      <td>0</td>\n",
       "      <td>0</td>\n",
       "      <td>0</td>\n",
       "      <td>0</td>\n",
       "      <td>0</td>\n",
       "      <td>0</td>\n",
       "    </tr>\n",
       "    <tr>\n",
       "      <th>2</th>\n",
       "      <td>25000.0</td>\n",
       "      <td>650.0</td>\n",
       "      <td>5.0</td>\n",
       "      <td>2.0</td>\n",
       "      <td>1</td>\n",
       "      <td>0</td>\n",
       "      <td>0</td>\n",
       "      <td>0</td>\n",
       "      <td>0</td>\n",
       "      <td>0</td>\n",
       "      <td>...</td>\n",
       "      <td>0</td>\n",
       "      <td>0</td>\n",
       "      <td>0</td>\n",
       "      <td>0</td>\n",
       "      <td>0</td>\n",
       "      <td>0</td>\n",
       "      <td>0</td>\n",
       "      <td>0</td>\n",
       "      <td>0</td>\n",
       "      <td>0</td>\n",
       "    </tr>\n",
       "    <tr>\n",
       "      <th>3</th>\n",
       "      <td>80000.0</td>\n",
       "      <td>900.0</td>\n",
       "      <td>12.0</td>\n",
       "      <td>5.0</td>\n",
       "      <td>4</td>\n",
       "      <td>1</td>\n",
       "      <td>3</td>\n",
       "      <td>0</td>\n",
       "      <td>0</td>\n",
       "      <td>0</td>\n",
       "      <td>...</td>\n",
       "      <td>0</td>\n",
       "      <td>0</td>\n",
       "      <td>0</td>\n",
       "      <td>0</td>\n",
       "      <td>0</td>\n",
       "      <td>0</td>\n",
       "      <td>0</td>\n",
       "      <td>0</td>\n",
       "      <td>0</td>\n",
       "      <td>0</td>\n",
       "    </tr>\n",
       "    <tr>\n",
       "      <th>4</th>\n",
       "      <td>100000.0</td>\n",
       "      <td>700.0</td>\n",
       "      <td>15.0</td>\n",
       "      <td>3.0</td>\n",
       "      <td>1</td>\n",
       "      <td>1</td>\n",
       "      <td>2</td>\n",
       "      <td>0</td>\n",
       "      <td>0</td>\n",
       "      <td>0</td>\n",
       "      <td>...</td>\n",
       "      <td>0</td>\n",
       "      <td>0</td>\n",
       "      <td>0</td>\n",
       "      <td>0</td>\n",
       "      <td>0</td>\n",
       "      <td>0</td>\n",
       "      <td>0</td>\n",
       "      <td>0</td>\n",
       "      <td>0</td>\n",
       "      <td>0</td>\n",
       "    </tr>\n",
       "    <tr>\n",
       "      <th>...</th>\n",
       "      <td>...</td>\n",
       "      <td>...</td>\n",
       "      <td>...</td>\n",
       "      <td>...</td>\n",
       "      <td>...</td>\n",
       "      <td>...</td>\n",
       "      <td>...</td>\n",
       "      <td>...</td>\n",
       "      <td>...</td>\n",
       "      <td>...</td>\n",
       "      <td>...</td>\n",
       "      <td>...</td>\n",
       "      <td>...</td>\n",
       "      <td>...</td>\n",
       "      <td>...</td>\n",
       "      <td>...</td>\n",
       "      <td>...</td>\n",
       "      <td>...</td>\n",
       "      <td>...</td>\n",
       "      <td>...</td>\n",
       "      <td>...</td>\n",
       "    </tr>\n",
       "    <tr>\n",
       "      <th>495</th>\n",
       "      <td>7000.0</td>\n",
       "      <td>730.0</td>\n",
       "      <td>5.0</td>\n",
       "      <td>4.0</td>\n",
       "      <td>3</td>\n",
       "      <td>1</td>\n",
       "      <td>0</td>\n",
       "      <td>0</td>\n",
       "      <td>0</td>\n",
       "      <td>0</td>\n",
       "      <td>...</td>\n",
       "      <td>0</td>\n",
       "      <td>0</td>\n",
       "      <td>0</td>\n",
       "      <td>0</td>\n",
       "      <td>0</td>\n",
       "      <td>0</td>\n",
       "      <td>0</td>\n",
       "      <td>0</td>\n",
       "      <td>0</td>\n",
       "      <td>0</td>\n",
       "    </tr>\n",
       "    <tr>\n",
       "      <th>496</th>\n",
       "      <td>4500.0</td>\n",
       "      <td>680.0</td>\n",
       "      <td>4.0</td>\n",
       "      <td>4.0</td>\n",
       "      <td>3</td>\n",
       "      <td>1</td>\n",
       "      <td>0</td>\n",
       "      <td>0</td>\n",
       "      <td>0</td>\n",
       "      <td>0</td>\n",
       "      <td>...</td>\n",
       "      <td>0</td>\n",
       "      <td>0</td>\n",
       "      <td>0</td>\n",
       "      <td>0</td>\n",
       "      <td>0</td>\n",
       "      <td>0</td>\n",
       "      <td>0</td>\n",
       "      <td>0</td>\n",
       "      <td>0</td>\n",
       "      <td>0</td>\n",
       "    </tr>\n",
       "    <tr>\n",
       "      <th>497</th>\n",
       "      <td>5500.0</td>\n",
       "      <td>690.0</td>\n",
       "      <td>4.0</td>\n",
       "      <td>4.0</td>\n",
       "      <td>3</td>\n",
       "      <td>1</td>\n",
       "      <td>1</td>\n",
       "      <td>0</td>\n",
       "      <td>0</td>\n",
       "      <td>0</td>\n",
       "      <td>...</td>\n",
       "      <td>0</td>\n",
       "      <td>0</td>\n",
       "      <td>0</td>\n",
       "      <td>0</td>\n",
       "      <td>0</td>\n",
       "      <td>0</td>\n",
       "      <td>0</td>\n",
       "      <td>0</td>\n",
       "      <td>0</td>\n",
       "      <td>0</td>\n",
       "    </tr>\n",
       "    <tr>\n",
       "      <th>498</th>\n",
       "      <td>3500.0</td>\n",
       "      <td>640.0</td>\n",
       "      <td>3.0</td>\n",
       "      <td>4.0</td>\n",
       "      <td>3</td>\n",
       "      <td>0</td>\n",
       "      <td>1</td>\n",
       "      <td>0</td>\n",
       "      <td>0</td>\n",
       "      <td>0</td>\n",
       "      <td>...</td>\n",
       "      <td>0</td>\n",
       "      <td>0</td>\n",
       "      <td>0</td>\n",
       "      <td>0</td>\n",
       "      <td>0</td>\n",
       "      <td>0</td>\n",
       "      <td>0</td>\n",
       "      <td>0</td>\n",
       "      <td>0</td>\n",
       "      <td>0</td>\n",
       "    </tr>\n",
       "    <tr>\n",
       "      <th>499</th>\n",
       "      <td>3200.0</td>\n",
       "      <td>641.0</td>\n",
       "      <td>4.0</td>\n",
       "      <td>4.0</td>\n",
       "      <td>3</td>\n",
       "      <td>0</td>\n",
       "      <td>2</td>\n",
       "      <td>0</td>\n",
       "      <td>0</td>\n",
       "      <td>0</td>\n",
       "      <td>...</td>\n",
       "      <td>0</td>\n",
       "      <td>0</td>\n",
       "      <td>0</td>\n",
       "      <td>0</td>\n",
       "      <td>0</td>\n",
       "      <td>0</td>\n",
       "      <td>0</td>\n",
       "      <td>0</td>\n",
       "      <td>0</td>\n",
       "      <td>0</td>\n",
       "    </tr>\n",
       "  </tbody>\n",
       "</table>\n",
       "<p>500 rows × 123 columns</p>\n",
       "</div>"
      ],
      "text/plain": [
       "     Monthly Income  Credit Score  Years of Employment  Finance Status  \\\n",
       "0           40000.0         750.0                 10.0             3.0   \n",
       "1           60000.0         800.0                  8.0             3.0   \n",
       "2           25000.0         650.0                  5.0             2.0   \n",
       "3           80000.0         900.0                 12.0             5.0   \n",
       "4          100000.0         700.0                 15.0             3.0   \n",
       "..              ...           ...                  ...             ...   \n",
       "495          7000.0         730.0                  5.0             4.0   \n",
       "496          4500.0         680.0                  4.0             4.0   \n",
       "497          5500.0         690.0                  4.0             4.0   \n",
       "498          3500.0         640.0                  3.0             4.0   \n",
       "499          3200.0         641.0                  4.0             4.0   \n",
       "\n",
       "     Finance History  Car Number of Children  Occupation_Account Executive  \\\n",
       "0                  4    1                  2                             0   \n",
       "1                  4    1                  1                             0   \n",
       "2                  1    0                  0                             0   \n",
       "3                  4    1                  3                             0   \n",
       "4                  1    1                  2                             0   \n",
       "..               ...  ...                ...                           ...   \n",
       "495                3    1                  0                             0   \n",
       "496                3    1                  0                             0   \n",
       "497                3    1                  1                             0   \n",
       "498                3    0                  1                             0   \n",
       "499                3    0                  2                             0   \n",
       "\n",
       "     Occupation_Account Manager  Occupation_Accountant  ...  \\\n",
       "0                             0                      0  ...   \n",
       "1                             0                      0  ...   \n",
       "2                             0                      0  ...   \n",
       "3                             0                      0  ...   \n",
       "4                             0                      0  ...   \n",
       "..                          ...                    ...  ...   \n",
       "495                           0                      0  ...   \n",
       "496                           0                      0  ...   \n",
       "497                           0                      0  ...   \n",
       "498                           0                      0  ...   \n",
       "499                           0                      0  ...   \n",
       "\n",
       "     Occupation_Software Dev  Occupation_Software Developer  \\\n",
       "0                          0                              0   \n",
       "1                          0                              0   \n",
       "2                          0                              0   \n",
       "3                          0                              0   \n",
       "4                          0                              0   \n",
       "..                       ...                            ...   \n",
       "495                        0                              0   \n",
       "496                        0                              0   \n",
       "497                        0                              0   \n",
       "498                        0                              0   \n",
       "499                        0                              0   \n",
       "\n",
       "     Occupation_Software Engineer  Occupation_Teacher  \\\n",
       "0                               0                   1   \n",
       "1                               0                   0   \n",
       "2                               0                   0   \n",
       "3                               0                   0   \n",
       "4                               0                   0   \n",
       "..                            ...                 ...   \n",
       "495                             0                   0   \n",
       "496                             0                   0   \n",
       "497                             0                   0   \n",
       "498                             0                   0   \n",
       "499                             0                   0   \n",
       "\n",
       "     Occupation_Veterinarian  Occupation_Veterinarian Technician  \\\n",
       "0                          0                                   0   \n",
       "1                          0                                   0   \n",
       "2                          0                                   0   \n",
       "3                          0                                   0   \n",
       "4                          0                                   0   \n",
       "..                       ...                                 ...   \n",
       "495                        0                                   0   \n",
       "496                        0                                   0   \n",
       "497                        0                                   0   \n",
       "498                        0                                   0   \n",
       "499                        0                                   0   \n",
       "\n",
       "     Occupation_Waiter/Waitress  Occupation_Web Designer  \\\n",
       "0                             0                        0   \n",
       "1                             0                        0   \n",
       "2                             0                        0   \n",
       "3                             0                        0   \n",
       "4                             0                        0   \n",
       "..                          ...                      ...   \n",
       "495                           0                        0   \n",
       "496                           0                        0   \n",
       "497                           0                        0   \n",
       "498                           0                        0   \n",
       "499                           0                        0   \n",
       "\n",
       "     Occupation_Web Developer  Occupation_Writer  \n",
       "0                           0                  0  \n",
       "1                           0                  0  \n",
       "2                           0                  0  \n",
       "3                           0                  0  \n",
       "4                           0                  0  \n",
       "..                        ...                ...  \n",
       "495                         0                  0  \n",
       "496                         0                  0  \n",
       "497                         0                  0  \n",
       "498                         0                  0  \n",
       "499                         0                  0  \n",
       "\n",
       "[500 rows x 123 columns]"
      ]
     },
     "execution_count": 42,
     "metadata": {},
     "output_type": "execute_result"
    }
   ],
   "source": [
    "df = pd.get_dummies(df,columns =['Occupation'])\n",
    "df"
   ]
  },
  {
   "cell_type": "markdown",
   "id": "3b0d5cc3",
   "metadata": {},
   "source": [
    "# 'Number of Children' "
   ]
  },
  {
   "cell_type": "code",
   "execution_count": 43,
   "id": "bc8d0d2b",
   "metadata": {},
   "outputs": [
    {
     "data": {
      "text/plain": [
       "0     120\n",
       "1     112\n",
       "2      95\n",
       "na     29\n",
       "3      18\n",
       "4       1\n",
       "Name: Number of Children, dtype: int64"
      ]
     },
     "execution_count": 43,
     "metadata": {},
     "output_type": "execute_result"
    }
   ],
   "source": [
    "df['Number of Children'].value_counts()"
   ]
  },
  {
   "cell_type": "code",
   "execution_count": 44,
   "id": "acca6c31",
   "metadata": {},
   "outputs": [
    {
     "data": {
      "text/plain": [
       "0     120\n",
       "1     112\n",
       "2      95\n",
       "na     29\n",
       "3      18\n",
       "4       1\n",
       "Name: Number of Children, dtype: int64"
      ]
     },
     "execution_count": 44,
     "metadata": {},
     "output_type": "execute_result"
    }
   ],
   "source": [
    "df['Number of Children'].value_counts()"
   ]
  },
  {
   "cell_type": "code",
   "execution_count": 45,
   "id": "8f8e7612",
   "metadata": {},
   "outputs": [],
   "source": [
    "df.loc[df['Number of Children'] == 'na','Number of Children'] = 500"
   ]
  },
  {
   "cell_type": "code",
   "execution_count": 46,
   "id": "163da5c3",
   "metadata": {},
   "outputs": [],
   "source": [
    "df['Number of Children'] = df['Number of Children'].astype(str)"
   ]
  },
  {
   "cell_type": "code",
   "execution_count": 47,
   "id": "88ea3005",
   "metadata": {},
   "outputs": [],
   "source": [
    "df.loc[df['Number of Children'] == 'nan','Number of Children'] = '500'"
   ]
  },
  {
   "cell_type": "code",
   "execution_count": 48,
   "id": "6dc082a2",
   "metadata": {},
   "outputs": [],
   "source": [
    "df['Number of Children'] = df['Number of Children'].astype(int)"
   ]
  },
  {
   "cell_type": "code",
   "execution_count": 49,
   "id": "0753669d",
   "metadata": {},
   "outputs": [],
   "source": [
    "df.loc[df['Number of Children'] == 500,'Number of Children'] = np.nan"
   ]
  },
  {
   "cell_type": "code",
   "execution_count": 50,
   "id": "1966411f",
   "metadata": {},
   "outputs": [
    {
     "data": {
      "text/plain": [
       "154"
      ]
     },
     "execution_count": 50,
     "metadata": {},
     "output_type": "execute_result"
    }
   ],
   "source": [
    "df['Number of Children'].isnull().sum()"
   ]
  },
  {
   "cell_type": "code",
   "execution_count": 51,
   "id": "464b6782",
   "metadata": {},
   "outputs": [
    {
     "data": {
      "text/html": [
       "<div>\n",
       "<style scoped>\n",
       "    .dataframe tbody tr th:only-of-type {\n",
       "        vertical-align: middle;\n",
       "    }\n",
       "\n",
       "    .dataframe tbody tr th {\n",
       "        vertical-align: top;\n",
       "    }\n",
       "\n",
       "    .dataframe thead th {\n",
       "        text-align: right;\n",
       "    }\n",
       "</style>\n",
       "<table border=\"1\" class=\"dataframe\">\n",
       "  <thead>\n",
       "    <tr style=\"text-align: right;\">\n",
       "      <th></th>\n",
       "    </tr>\n",
       "  </thead>\n",
       "  <tbody>\n",
       "    <tr>\n",
       "      <th>0</th>\n",
       "    </tr>\n",
       "    <tr>\n",
       "      <th>1</th>\n",
       "    </tr>\n",
       "    <tr>\n",
       "      <th>2</th>\n",
       "    </tr>\n",
       "    <tr>\n",
       "      <th>3</th>\n",
       "    </tr>\n",
       "    <tr>\n",
       "      <th>4</th>\n",
       "    </tr>\n",
       "    <tr>\n",
       "      <th>...</th>\n",
       "    </tr>\n",
       "    <tr>\n",
       "      <th>495</th>\n",
       "    </tr>\n",
       "    <tr>\n",
       "      <th>496</th>\n",
       "    </tr>\n",
       "    <tr>\n",
       "      <th>497</th>\n",
       "    </tr>\n",
       "    <tr>\n",
       "      <th>498</th>\n",
       "    </tr>\n",
       "    <tr>\n",
       "      <th>499</th>\n",
       "    </tr>\n",
       "  </tbody>\n",
       "</table>\n",
       "<p>500 rows × 0 columns</p>\n",
       "</div>"
      ],
      "text/plain": [
       "Empty DataFrame\n",
       "Columns: []\n",
       "Index: [0, 1, 2, 3, 4, 5, 6, 7, 8, 9, 10, 11, 12, 13, 14, 15, 16, 17, 18, 19, 20, 21, 22, 23, 24, 25, 26, 27, 28, 29, 30, 31, 32, 33, 34, 35, 36, 37, 38, 39, 40, 41, 42, 43, 44, 45, 46, 47, 48, 49, 50, 51, 52, 53, 54, 55, 56, 57, 58, 59, 60, 61, 62, 63, 64, 65, 66, 67, 68, 69, 70, 71, 72, 73, 74, 75, 76, 77, 78, 79, 80, 81, 82, 83, 84, 85, 86, 87, 88, 89, 90, 91, 92, 93, 94, 95, 96, 97, 98, 99, ...]\n",
       "\n",
       "[500 rows x 0 columns]"
      ]
     },
     "execution_count": 51,
     "metadata": {},
     "output_type": "execute_result"
    }
   ],
   "source": [
    "df.select_dtypes(object)"
   ]
  },
  {
   "cell_type": "markdown",
   "id": "8887fac9",
   "metadata": {},
   "source": [
    "# filling remaining missingvalues with knnimputer"
   ]
  },
  {
   "cell_type": "code",
   "execution_count": 52,
   "id": "89bb6baf",
   "metadata": {},
   "outputs": [],
   "source": [
    "impute = KNNImputer()\n",
    "arr = impute.fit_transform(df)\n",
    "df = pd.DataFrame(arr,columns = df.columns)"
   ]
  },
  {
   "cell_type": "code",
   "execution_count": 53,
   "id": "3c8a59c9",
   "metadata": {},
   "outputs": [
    {
     "data": {
      "text/plain": [
       "Monthly Income                    0\n",
       "Credit Score                      0\n",
       "Years of Employment               0\n",
       "Finance Status                    0\n",
       "Finance History                   0\n",
       "Car                               0\n",
       "Number of Children                0\n",
       "Occupation_Account Executive      0\n",
       "Occupation_Account Manager        0\n",
       "Occupation_Accountant             0\n",
       "Occupation_Architect              0\n",
       "Occupation_Art Director           0\n",
       "Occupation_Attorney               0\n",
       "Occupation_Automotive Mechanic    0\n",
       "Occupation_Bank Teller            0\n",
       "Occupation_Barista                0\n",
       "Occupation_Bartender              0\n",
       "Occupation_Business Analyst       0\n",
       "Occupation_Business Owner         0\n",
       "Occupation_Businessman            0\n",
       "Occupation_Carpenter              0\n",
       "Occupation_Chef                   0\n",
       "Occupation_Civil Engineer         0\n",
       "Occupation_Computer Programmer    0\n",
       "Occupation_Computer Technician    0\n",
       "dtype: int64"
      ]
     },
     "execution_count": 53,
     "metadata": {},
     "output_type": "execute_result"
    }
   ],
   "source": [
    "df.isna().sum()[0:25]"
   ]
  },
  {
   "cell_type": "code",
   "execution_count": 54,
   "id": "c4332d93",
   "metadata": {},
   "outputs": [
    {
     "data": {
      "text/plain": [
       "Occupation_Real Estate Agent          float64\n",
       "Occupation_Registered Nurse           float64\n",
       "Occupation_Retail Manager             float64\n",
       "Occupation_Retail Salesperson         float64\n",
       "Occupation_Sales Manager              float64\n",
       "Occupation_Sales Representative       float64\n",
       "Occupation_Salesperson                float64\n",
       "Occupation_Social Media Manager       float64\n",
       "Occupation_Social Worker              float64\n",
       "Occupation_Software Architect         float64\n",
       "Occupation_Software Dev               float64\n",
       "Occupation_Software Developer         float64\n",
       "Occupation_Software Engineer          float64\n",
       "Occupation_Teacher                    float64\n",
       "Occupation_Veterinarian               float64\n",
       "Occupation_Veterinarian Technician    float64\n",
       "Occupation_Waiter/Waitress            float64\n",
       "Occupation_Web Designer               float64\n",
       "Occupation_Web Developer              float64\n",
       "Occupation_Writer                     float64\n",
       "dtype: object"
      ]
     },
     "execution_count": 54,
     "metadata": {},
     "output_type": "execute_result"
    }
   ],
   "source": [
    "df.dtypes.tail(20)"
   ]
  },
  {
   "cell_type": "code",
   "execution_count": null,
   "id": "87802d8c",
   "metadata": {},
   "outputs": [],
   "source": []
  },
  {
   "cell_type": "code",
   "execution_count": 55,
   "id": "c7dd99d2",
   "metadata": {},
   "outputs": [
    {
     "data": {
      "text/plain": [
       "Index(['Monthly Income', 'Credit Score', 'Years of Employment',\n",
       "       'Finance Status', 'Finance History', 'Car', 'Number of Children',\n",
       "       'Occupation_Account Executive', 'Occupation_Account Manager',\n",
       "       'Occupation_Accountant',\n",
       "       ...\n",
       "       'Occupation_Software Dev', 'Occupation_Software Developer',\n",
       "       'Occupation_Software Engineer', 'Occupation_Teacher',\n",
       "       'Occupation_Veterinarian', 'Occupation_Veterinarian Technician',\n",
       "       'Occupation_Waiter/Waitress', 'Occupation_Web Designer',\n",
       "       'Occupation_Web Developer', 'Occupation_Writer'],\n",
       "      dtype='object', length=123)"
      ]
     },
     "execution_count": 55,
     "metadata": {},
     "output_type": "execute_result"
    }
   ],
   "source": [
    "df.columns"
   ]
  },
  {
   "cell_type": "code",
   "execution_count": 56,
   "id": "faae1ed0",
   "metadata": {},
   "outputs": [
    {
     "data": {
      "text/html": [
       "<div>\n",
       "<style scoped>\n",
       "    .dataframe tbody tr th:only-of-type {\n",
       "        vertical-align: middle;\n",
       "    }\n",
       "\n",
       "    .dataframe tbody tr th {\n",
       "        vertical-align: top;\n",
       "    }\n",
       "\n",
       "    .dataframe thead th {\n",
       "        text-align: right;\n",
       "    }\n",
       "</style>\n",
       "<table border=\"1\" class=\"dataframe\">\n",
       "  <thead>\n",
       "    <tr style=\"text-align: right;\">\n",
       "      <th></th>\n",
       "    </tr>\n",
       "  </thead>\n",
       "  <tbody>\n",
       "    <tr>\n",
       "      <th>0</th>\n",
       "    </tr>\n",
       "    <tr>\n",
       "      <th>1</th>\n",
       "    </tr>\n",
       "    <tr>\n",
       "      <th>2</th>\n",
       "    </tr>\n",
       "    <tr>\n",
       "      <th>3</th>\n",
       "    </tr>\n",
       "    <tr>\n",
       "      <th>4</th>\n",
       "    </tr>\n",
       "    <tr>\n",
       "      <th>...</th>\n",
       "    </tr>\n",
       "    <tr>\n",
       "      <th>495</th>\n",
       "    </tr>\n",
       "    <tr>\n",
       "      <th>496</th>\n",
       "    </tr>\n",
       "    <tr>\n",
       "      <th>497</th>\n",
       "    </tr>\n",
       "    <tr>\n",
       "      <th>498</th>\n",
       "    </tr>\n",
       "    <tr>\n",
       "      <th>499</th>\n",
       "    </tr>\n",
       "  </tbody>\n",
       "</table>\n",
       "<p>500 rows × 0 columns</p>\n",
       "</div>"
      ],
      "text/plain": [
       "Empty DataFrame\n",
       "Columns: []\n",
       "Index: [0, 1, 2, 3, 4, 5, 6, 7, 8, 9, 10, 11, 12, 13, 14, 15, 16, 17, 18, 19, 20, 21, 22, 23, 24, 25, 26, 27, 28, 29, 30, 31, 32, 33, 34, 35, 36, 37, 38, 39, 40, 41, 42, 43, 44, 45, 46, 47, 48, 49, 50, 51, 52, 53, 54, 55, 56, 57, 58, 59, 60, 61, 62, 63, 64, 65, 66, 67, 68, 69, 70, 71, 72, 73, 74, 75, 76, 77, 78, 79, 80, 81, 82, 83, 84, 85, 86, 87, 88, 89, 90, 91, 92, 93, 94, 95, 96, 97, 98, 99, ...]\n",
       "\n",
       "[500 rows x 0 columns]"
      ]
     },
     "execution_count": 56,
     "metadata": {},
     "output_type": "execute_result"
    }
   ],
   "source": [
    "df.select_dtypes(object)"
   ]
  },
  {
   "cell_type": "markdown",
   "id": "eb0c4cc4",
   "metadata": {},
   "source": [
    "# outliers detection"
   ]
  },
  {
   "cell_type": "code",
   "execution_count": 57,
   "id": "1bae9ace",
   "metadata": {},
   "outputs": [
    {
     "name": "stderr",
     "output_type": "stream",
     "text": [
      "C:\\anacondaaa\\lib\\site-packages\\seaborn\\_decorators.py:36: FutureWarning: Pass the following variable as a keyword arg: x. From version 0.12, the only valid positional argument will be `data`, and passing other arguments without an explicit keyword will result in an error or misinterpretation.\n",
      "  warnings.warn(\n"
     ]
    },
    {
     "data": {
      "image/png": "[encoded data removed]",
      "text/plain": [
       "<Figure size 144x144 with 1 Axes>"
      ]
     },
     "metadata": {
      "needs_background": "light"
     },
     "output_type": "display_data"
    },
    {
     "name": "stderr",
     "output_type": "stream",
     "text": [
      "C:\\anacondaaa\\lib\\site-packages\\seaborn\\_decorators.py:36: FutureWarning: Pass the following variable as a keyword arg: x. From version 0.12, the only valid positional argument will be `data`, and passing other arguments without an explicit keyword will result in an error or misinterpretation.\n",
      "  warnings.warn(\n"
     ]
    },
    {
     "data": {
      "image/png": "[encoded data removed]",
      "text/plain": [
       "<Figure size 144x144 with 1 Axes>"
      ]
     },
     "metadata": {
      "needs_background": "light"
     },
     "output_type": "display_data"
    },
    {
     "name": "stderr",
     "output_type": "stream",
     "text": [
      "C:\\anacondaaa\\lib\\site-packages\\seaborn\\_decorators.py:36: FutureWarning: Pass the following variable as a keyword arg: x. From version 0.12, the only valid positional argument will be `data`, and passing other arguments without an explicit keyword will result in an error or misinterpretation.\n",
      "  warnings.warn(\n"
     ]
    },
    {
     "data": {
      "image/png": "[encoded data removed]",
      "text/plain": [
       "<Figure size 144x144 with 1 Axes>"
      ]
     },
     "metadata": {
      "needs_background": "light"
     },
     "output_type": "display_data"
    },
    {
     "name": "stderr",
     "output_type": "stream",
     "text": [
      "C:\\anacondaaa\\lib\\site-packages\\seaborn\\_decorators.py:36: FutureWarning: Pass the following variable as a keyword arg: x. From version 0.12, the only valid positional argument will be `data`, and passing other arguments without an explicit keyword will result in an error or misinterpretation.\n",
      "  warnings.warn(\n"
     ]
    },
    {
     "data": {
      "image/png": "[encoded data removed]",
      "text/plain": [
       "<Figure size 144x144 with 1 Axes>"
      ]
     },
     "metadata": {
      "needs_background": "light"
     },
     "output_type": "display_data"
    }
   ],
   "source": [
    "df1 = df[['Monthly Income', 'Credit Score', 'Years of Employment','Number of Children']]\n",
    "for i in df1.columns:\n",
    "    plt.figure(figsize= (2,2))\n",
    "    sns.boxplot(df1[i])\n",
    "    plt.show()"
   ]
  },
  {
   "cell_type": "code",
   "execution_count": 58,
   "id": "d89fe329",
   "metadata": {},
   "outputs": [
    {
     "name": "stderr",
     "output_type": "stream",
     "text": [
      "C:\\anacondaaa\\lib\\site-packages\\seaborn\\_decorators.py:36: FutureWarning: Pass the following variable as a keyword arg: x. From version 0.12, the only valid positional argument will be `data`, and passing other arguments without an explicit keyword will result in an error or misinterpretation.\n",
      "  warnings.warn(\n"
     ]
    },
    {
     "data": {
      "image/png": "[encoded data removed]",
      "text/plain": [
       "<Figure size 144x144 with 1 Axes>"
      ]
     },
     "metadata": {
      "needs_background": "light"
     },
     "output_type": "display_data"
    },
    {
     "name": "stderr",
     "output_type": "stream",
     "text": [
      "C:\\anacondaaa\\lib\\site-packages\\seaborn\\_decorators.py:36: FutureWarning: Pass the following variable as a keyword arg: x. From version 0.12, the only valid positional argument will be `data`, and passing other arguments without an explicit keyword will result in an error or misinterpretation.\n",
      "  warnings.warn(\n"
     ]
    },
    {
     "data": {
      "image/png": "[encoded data removed]",
      "text/plain": [
       "<Figure size 144x144 with 1 Axes>"
      ]
     },
     "metadata": {
      "needs_background": "light"
     },
     "output_type": "display_data"
    }
   ],
   "source": [
    "df2 = df[[\"Monthly Income\",\"Years of Employment\"]]\n",
    "\n",
    "for i in df2.columns:\n",
    "    q1=df[i].quantile(0.25)\n",
    "    q3=df[i].quantile(0.75)\n",
    "    iqr = q3-q1\n",
    "    lt=q1-2.5*iqr\n",
    "    ut=q3+2.5*iqr\n",
    "    \n",
    "    df.loc[df[i]<lt,i] = lt\n",
    "    df.loc[df[i]>ut,i] = ut\n",
    "    plt.figure(figsize = (2,2))\n",
    "    sns.boxplot(df[i])\n",
    "    plt.show()"
   ]
  },
  {
   "cell_type": "code",
   "execution_count": 59,
   "id": "9edead91",
   "metadata": {},
   "outputs": [
    {
     "data": {
      "text/plain": [
       "1.0    64.2\n",
       "0.0    35.8\n",
       "Name: Car, dtype: float64"
      ]
     },
     "execution_count": 59,
     "metadata": {},
     "output_type": "execute_result"
    }
   ],
   "source": [
    " df['Car'].value_counts()/len(df)*100"
   ]
  },
  {
   "cell_type": "code",
   "execution_count": 60,
   "id": "3a98aab4",
   "metadata": {},
   "outputs": [
    {
     "data": {
      "text/plain": [
       "123"
      ]
     },
     "execution_count": 60,
     "metadata": {},
     "output_type": "execute_result"
    }
   ],
   "source": [
    "len(df.columns)"
   ]
  },
  {
   "cell_type": "code",
   "execution_count": 61,
   "id": "8581a275",
   "metadata": {},
   "outputs": [
    {
     "data": {
      "text/html": [
       "<div>\n",
       "<style scoped>\n",
       "    .dataframe tbody tr th:only-of-type {\n",
       "        vertical-align: middle;\n",
       "    }\n",
       "\n",
       "    .dataframe tbody tr th {\n",
       "        vertical-align: top;\n",
       "    }\n",
       "\n",
       "    .dataframe thead th {\n",
       "        text-align: right;\n",
       "    }\n",
       "</style>\n",
       "<table border=\"1\" class=\"dataframe\">\n",
       "  <thead>\n",
       "    <tr style=\"text-align: right;\">\n",
       "      <th></th>\n",
       "      <th>Monthly Income</th>\n",
       "      <th>Credit Score</th>\n",
       "      <th>Years of Employment</th>\n",
       "      <th>Finance Status</th>\n",
       "      <th>Finance History</th>\n",
       "      <th>Car</th>\n",
       "      <th>Number of Children</th>\n",
       "      <th>Occupation_Account Executive</th>\n",
       "      <th>Occupation_Account Manager</th>\n",
       "      <th>Occupation_Accountant</th>\n",
       "      <th>...</th>\n",
       "      <th>Occupation_Software Dev</th>\n",
       "      <th>Occupation_Software Developer</th>\n",
       "      <th>Occupation_Software Engineer</th>\n",
       "      <th>Occupation_Teacher</th>\n",
       "      <th>Occupation_Veterinarian</th>\n",
       "      <th>Occupation_Veterinarian Technician</th>\n",
       "      <th>Occupation_Waiter/Waitress</th>\n",
       "      <th>Occupation_Web Designer</th>\n",
       "      <th>Occupation_Web Developer</th>\n",
       "      <th>Occupation_Writer</th>\n",
       "    </tr>\n",
       "  </thead>\n",
       "  <tbody>\n",
       "    <tr>\n",
       "      <th>Finance History</th>\n",
       "      <td>0.427062</td>\n",
       "      <td>0.658238</td>\n",
       "      <td>0.616838</td>\n",
       "      <td>0.833568</td>\n",
       "      <td>1.0</td>\n",
       "      <td>0.700396</td>\n",
       "      <td>-0.013759</td>\n",
       "      <td>0.046969</td>\n",
       "      <td>0.040635</td>\n",
       "      <td>0.035224</td>\n",
       "      <td>...</td>\n",
       "      <td>0.033145</td>\n",
       "      <td>0.052565</td>\n",
       "      <td>0.062322</td>\n",
       "      <td>0.074717</td>\n",
       "      <td>0.066693</td>\n",
       "      <td>-0.083012</td>\n",
       "      <td>-0.083012</td>\n",
       "      <td>0.066693</td>\n",
       "      <td>0.066693</td>\n",
       "      <td>-0.131846</td>\n",
       "    </tr>\n",
       "  </tbody>\n",
       "</table>\n",
       "<p>1 rows × 123 columns</p>\n",
       "</div>"
      ],
      "text/plain": [
       "                 Monthly Income  Credit Score  Years of Employment  \\\n",
       "Finance History        0.427062      0.658238             0.616838   \n",
       "\n",
       "                 Finance Status  Finance History       Car  \\\n",
       "Finance History        0.833568              1.0  0.700396   \n",
       "\n",
       "                 Number of Children  Occupation_Account Executive  \\\n",
       "Finance History           -0.013759                      0.046969   \n",
       "\n",
       "                 Occupation_Account Manager  Occupation_Accountant  ...  \\\n",
       "Finance History                    0.040635               0.035224  ...   \n",
       "\n",
       "                 Occupation_Software Dev  Occupation_Software Developer  \\\n",
       "Finance History                 0.033145                       0.052565   \n",
       "\n",
       "                 Occupation_Software Engineer  Occupation_Teacher  \\\n",
       "Finance History                      0.062322            0.074717   \n",
       "\n",
       "                 Occupation_Veterinarian  Occupation_Veterinarian Technician  \\\n",
       "Finance History                 0.066693                           -0.083012   \n",
       "\n",
       "                 Occupation_Waiter/Waitress  Occupation_Web Designer  \\\n",
       "Finance History                   -0.083012                 0.066693   \n",
       "\n",
       "                 Occupation_Web Developer  Occupation_Writer  \n",
       "Finance History                  0.066693          -0.131846  \n",
       "\n",
       "[1 rows x 123 columns]"
      ]
     },
     "execution_count": 61,
     "metadata": {},
     "output_type": "execute_result"
    }
   ],
   "source": [
    "corr = df.corr()[4:5]\n",
    "corr[0:10]"
   ]
  },
  {
   "cell_type": "markdown",
   "id": "02b8a69b",
   "metadata": {},
   "source": [
    "# pca"
   ]
  },
  {
   "cell_type": "code",
   "execution_count": 62,
   "id": "f7d76878",
   "metadata": {},
   "outputs": [],
   "source": [
    "from sklearn.decomposition import PCA"
   ]
  },
  {
   "cell_type": "code",
   "execution_count": 63,
   "id": "87416844",
   "metadata": {},
   "outputs": [],
   "source": [
    "x = df.drop('Car',axis = 1)\n",
    "y = df['Car']"
   ]
  },
  {
   "cell_type": "code",
   "execution_count": 64,
   "id": "d368a07d",
   "metadata": {},
   "outputs": [],
   "source": [
    "pca = PCA(n_components=25)\n",
    "arr = pca.fit_transform(x)"
   ]
  },
  {
   "cell_type": "code",
   "execution_count": 65,
   "id": "d40f2c10",
   "metadata": {},
   "outputs": [
    {
     "data": {
      "text/html": [
       "<div>\n",
       "<style scoped>\n",
       "    .dataframe tbody tr th:only-of-type {\n",
       "        vertical-align: middle;\n",
       "    }\n",
       "\n",
       "    .dataframe tbody tr th {\n",
       "        vertical-align: top;\n",
       "    }\n",
       "\n",
       "    .dataframe thead th {\n",
       "        text-align: right;\n",
       "    }\n",
       "</style>\n",
       "<table border=\"1\" class=\"dataframe\">\n",
       "  <thead>\n",
       "    <tr style=\"text-align: right;\">\n",
       "      <th></th>\n",
       "      <th>pc1</th>\n",
       "      <th>pc2</th>\n",
       "      <th>pc3</th>\n",
       "      <th>pc4</th>\n",
       "      <th>pc5</th>\n",
       "      <th>pc6</th>\n",
       "      <th>pc7</th>\n",
       "      <th>pc8</th>\n",
       "      <th>pc9</th>\n",
       "      <th>pc10</th>\n",
       "      <th>...</th>\n",
       "      <th>pc16</th>\n",
       "      <th>pc17</th>\n",
       "      <th>pc18</th>\n",
       "      <th>pc19</th>\n",
       "      <th>pc20</th>\n",
       "      <th>pc21</th>\n",
       "      <th>pc22</th>\n",
       "      <th>pc23</th>\n",
       "      <th>pc24</th>\n",
       "      <th>pc25</th>\n",
       "    </tr>\n",
       "  </thead>\n",
       "  <tbody>\n",
       "    <tr>\n",
       "      <th>0</th>\n",
       "      <td>10213.841452</td>\n",
       "      <td>101.275215</td>\n",
       "      <td>-1.123558</td>\n",
       "      <td>1.575298</td>\n",
       "      <td>0.154454</td>\n",
       "      <td>-1.000521</td>\n",
       "      <td>0.073031</td>\n",
       "      <td>-0.006501</td>\n",
       "      <td>0.069904</td>\n",
       "      <td>-0.137438</td>\n",
       "      <td>...</td>\n",
       "      <td>-0.332686</td>\n",
       "      <td>-0.073657</td>\n",
       "      <td>0.022756</td>\n",
       "      <td>0.000195</td>\n",
       "      <td>0.071161</td>\n",
       "      <td>-0.049720</td>\n",
       "      <td>-0.048302</td>\n",
       "      <td>-0.002819</td>\n",
       "      <td>-0.002141</td>\n",
       "      <td>-0.079810</td>\n",
       "    </tr>\n",
       "    <tr>\n",
       "      <th>1</th>\n",
       "      <td>10214.575523</td>\n",
       "      <td>51.350401</td>\n",
       "      <td>0.562757</td>\n",
       "      <td>-1.475905</td>\n",
       "      <td>0.116890</td>\n",
       "      <td>-0.949227</td>\n",
       "      <td>0.138164</td>\n",
       "      <td>0.103771</td>\n",
       "      <td>0.107212</td>\n",
       "      <td>-0.128456</td>\n",
       "      <td>...</td>\n",
       "      <td>-0.001676</td>\n",
       "      <td>0.059682</td>\n",
       "      <td>0.030483</td>\n",
       "      <td>-0.051780</td>\n",
       "      <td>-0.325630</td>\n",
       "      <td>-0.302375</td>\n",
       "      <td>-0.148101</td>\n",
       "      <td>-0.161064</td>\n",
       "      <td>0.489401</td>\n",
       "      <td>-0.116802</td>\n",
       "    </tr>\n",
       "    <tr>\n",
       "      <th>2</th>\n",
       "      <td>10212.367011</td>\n",
       "      <td>201.389318</td>\n",
       "      <td>0.235631</td>\n",
       "      <td>-1.347441</td>\n",
       "      <td>-0.619821</td>\n",
       "      <td>0.760907</td>\n",
       "      <td>-0.131785</td>\n",
       "      <td>-0.138136</td>\n",
       "      <td>-0.316889</td>\n",
       "      <td>0.750921</td>\n",
       "      <td>...</td>\n",
       "      <td>0.049780</td>\n",
       "      <td>0.022924</td>\n",
       "      <td>-0.008467</td>\n",
       "      <td>0.061316</td>\n",
       "      <td>0.059546</td>\n",
       "      <td>0.023483</td>\n",
       "      <td>-0.017379</td>\n",
       "      <td>0.022506</td>\n",
       "      <td>-0.041338</td>\n",
       "      <td>-0.004248</td>\n",
       "    </tr>\n",
       "    <tr>\n",
       "      <th>3</th>\n",
       "      <td>10216.048957</td>\n",
       "      <td>-48.717035</td>\n",
       "      <td>0.708937</td>\n",
       "      <td>0.934543</td>\n",
       "      <td>1.299146</td>\n",
       "      <td>0.217385</td>\n",
       "      <td>0.057987</td>\n",
       "      <td>0.035843</td>\n",
       "      <td>0.136399</td>\n",
       "      <td>-0.022937</td>\n",
       "      <td>...</td>\n",
       "      <td>0.050386</td>\n",
       "      <td>0.044523</td>\n",
       "      <td>0.047166</td>\n",
       "      <td>-0.102100</td>\n",
       "      <td>0.075618</td>\n",
       "      <td>0.066416</td>\n",
       "      <td>0.033154</td>\n",
       "      <td>-0.066022</td>\n",
       "      <td>-0.207818</td>\n",
       "      <td>0.060959</td>\n",
       "    </tr>\n",
       "    <tr>\n",
       "      <th>4</th>\n",
       "      <td>10213.107760</td>\n",
       "      <td>151.204748</td>\n",
       "      <td>-1.326440</td>\n",
       "      <td>6.101854</td>\n",
       "      <td>-1.391409</td>\n",
       "      <td>1.235106</td>\n",
       "      <td>-0.110890</td>\n",
       "      <td>-0.096974</td>\n",
       "      <td>0.081688</td>\n",
       "      <td>-0.028400</td>\n",
       "      <td>...</td>\n",
       "      <td>0.129267</td>\n",
       "      <td>0.099375</td>\n",
       "      <td>0.032357</td>\n",
       "      <td>0.079472</td>\n",
       "      <td>-0.060733</td>\n",
       "      <td>0.037330</td>\n",
       "      <td>0.028591</td>\n",
       "      <td>-0.142991</td>\n",
       "      <td>0.039725</td>\n",
       "      <td>0.042293</td>\n",
       "    </tr>\n",
       "    <tr>\n",
       "      <th>...</th>\n",
       "      <td>...</td>\n",
       "      <td>...</td>\n",
       "      <td>...</td>\n",
       "      <td>...</td>\n",
       "      <td>...</td>\n",
       "      <td>...</td>\n",
       "      <td>...</td>\n",
       "      <td>...</td>\n",
       "      <td>...</td>\n",
       "      <td>...</td>\n",
       "      <td>...</td>\n",
       "      <td>...</td>\n",
       "      <td>...</td>\n",
       "      <td>...</td>\n",
       "      <td>...</td>\n",
       "      <td>...</td>\n",
       "      <td>...</td>\n",
       "      <td>...</td>\n",
       "      <td>...</td>\n",
       "      <td>...</td>\n",
       "      <td>...</td>\n",
       "    </tr>\n",
       "    <tr>\n",
       "      <th>495</th>\n",
       "      <td>1464.492277</td>\n",
       "      <td>-7.404354</td>\n",
       "      <td>-0.469393</td>\n",
       "      <td>-0.938955</td>\n",
       "      <td>-0.733923</td>\n",
       "      <td>0.162684</td>\n",
       "      <td>-0.011877</td>\n",
       "      <td>0.017355</td>\n",
       "      <td>-0.038272</td>\n",
       "      <td>-0.036328</td>\n",
       "      <td>...</td>\n",
       "      <td>-0.004636</td>\n",
       "      <td>0.007394</td>\n",
       "      <td>-0.019859</td>\n",
       "      <td>-0.007146</td>\n",
       "      <td>0.007741</td>\n",
       "      <td>0.003029</td>\n",
       "      <td>-0.012925</td>\n",
       "      <td>0.003634</td>\n",
       "      <td>0.000924</td>\n",
       "      <td>0.056606</td>\n",
       "    </tr>\n",
       "    <tr>\n",
       "      <th>496</th>\n",
       "      <td>-1035.972788</td>\n",
       "      <td>5.796171</td>\n",
       "      <td>-1.406313</td>\n",
       "      <td>-0.301637</td>\n",
       "      <td>-0.771661</td>\n",
       "      <td>0.103414</td>\n",
       "      <td>0.938621</td>\n",
       "      <td>0.069218</td>\n",
       "      <td>-0.025262</td>\n",
       "      <td>0.044768</td>\n",
       "      <td>...</td>\n",
       "      <td>0.021037</td>\n",
       "      <td>0.004597</td>\n",
       "      <td>-0.024264</td>\n",
       "      <td>0.002426</td>\n",
       "      <td>0.026195</td>\n",
       "      <td>-0.000976</td>\n",
       "      <td>-0.012036</td>\n",
       "      <td>0.004757</td>\n",
       "      <td>0.005917</td>\n",
       "      <td>0.026845</td>\n",
       "    </tr>\n",
       "    <tr>\n",
       "      <th>497</th>\n",
       "      <td>-35.934029</td>\n",
       "      <td>10.517978</td>\n",
       "      <td>-1.106234</td>\n",
       "      <td>-0.378147</td>\n",
       "      <td>0.246041</td>\n",
       "      <td>-0.018371</td>\n",
       "      <td>-0.065677</td>\n",
       "      <td>-0.023396</td>\n",
       "      <td>-0.038660</td>\n",
       "      <td>-0.061694</td>\n",
       "      <td>...</td>\n",
       "      <td>0.005138</td>\n",
       "      <td>0.002461</td>\n",
       "      <td>-0.008431</td>\n",
       "      <td>-0.020376</td>\n",
       "      <td>-0.032536</td>\n",
       "      <td>0.016535</td>\n",
       "      <td>0.028655</td>\n",
       "      <td>0.007412</td>\n",
       "      <td>0.000689</td>\n",
       "      <td>0.053279</td>\n",
       "    </tr>\n",
       "    <tr>\n",
       "      <th>498</th>\n",
       "      <td>-2036.453257</td>\n",
       "      <td>31.076703</td>\n",
       "      <td>-2.060217</td>\n",
       "      <td>0.113652</td>\n",
       "      <td>0.213063</td>\n",
       "      <td>-0.119542</td>\n",
       "      <td>-0.101766</td>\n",
       "      <td>-0.054886</td>\n",
       "      <td>-0.071931</td>\n",
       "      <td>-0.071147</td>\n",
       "      <td>...</td>\n",
       "      <td>0.000965</td>\n",
       "      <td>0.002036</td>\n",
       "      <td>-0.012690</td>\n",
       "      <td>0.001191</td>\n",
       "      <td>-0.074622</td>\n",
       "      <td>0.015925</td>\n",
       "      <td>0.041389</td>\n",
       "      <td>-0.003235</td>\n",
       "      <td>0.029289</td>\n",
       "      <td>0.068898</td>\n",
       "    </tr>\n",
       "    <tr>\n",
       "      <th>499</th>\n",
       "      <td>-2336.405394</td>\n",
       "      <td>25.637868</td>\n",
       "      <td>-2.213595</td>\n",
       "      <td>1.451662</td>\n",
       "      <td>0.756285</td>\n",
       "      <td>-0.257536</td>\n",
       "      <td>-0.136757</td>\n",
       "      <td>-0.098229</td>\n",
       "      <td>-0.064951</td>\n",
       "      <td>-0.083832</td>\n",
       "      <td>...</td>\n",
       "      <td>-0.040397</td>\n",
       "      <td>-0.005039</td>\n",
       "      <td>0.006906</td>\n",
       "      <td>0.090448</td>\n",
       "      <td>-0.242910</td>\n",
       "      <td>0.096767</td>\n",
       "      <td>0.179889</td>\n",
       "      <td>-0.039693</td>\n",
       "      <td>-0.106852</td>\n",
       "      <td>0.375572</td>\n",
       "    </tr>\n",
       "  </tbody>\n",
       "</table>\n",
       "<p>500 rows × 25 columns</p>\n",
       "</div>"
      ],
      "text/plain": [
       "              pc1         pc2       pc3       pc4       pc5       pc6  \\\n",
       "0    10213.841452  101.275215 -1.123558  1.575298  0.154454 -1.000521   \n",
       "1    10214.575523   51.350401  0.562757 -1.475905  0.116890 -0.949227   \n",
       "2    10212.367011  201.389318  0.235631 -1.347441 -0.619821  0.760907   \n",
       "3    10216.048957  -48.717035  0.708937  0.934543  1.299146  0.217385   \n",
       "4    10213.107760  151.204748 -1.326440  6.101854 -1.391409  1.235106   \n",
       "..            ...         ...       ...       ...       ...       ...   \n",
       "495   1464.492277   -7.404354 -0.469393 -0.938955 -0.733923  0.162684   \n",
       "496  -1035.972788    5.796171 -1.406313 -0.301637 -0.771661  0.103414   \n",
       "497    -35.934029   10.517978 -1.106234 -0.378147  0.246041 -0.018371   \n",
       "498  -2036.453257   31.076703 -2.060217  0.113652  0.213063 -0.119542   \n",
       "499  -2336.405394   25.637868 -2.213595  1.451662  0.756285 -0.257536   \n",
       "\n",
       "          pc7       pc8       pc9      pc10  ...      pc16      pc17  \\\n",
       "0    0.073031 -0.006501  0.069904 -0.137438  ... -0.332686 -0.073657   \n",
       "1    0.138164  0.103771  0.107212 -0.128456  ... -0.001676  0.059682   \n",
       "2   -0.131785 -0.138136 -0.316889  0.750921  ...  0.049780  0.022924   \n",
       "3    0.057987  0.035843  0.136399 -0.022937  ...  0.050386  0.044523   \n",
       "4   -0.110890 -0.096974  0.081688 -0.028400  ...  0.129267  0.099375   \n",
       "..        ...       ...       ...       ...  ...       ...       ...   \n",
       "495 -0.011877  0.017355 -0.038272 -0.036328  ... -0.004636  0.007394   \n",
       "496  0.938621  0.069218 -0.025262  0.044768  ...  0.021037  0.004597   \n",
       "497 -0.065677 -0.023396 -0.038660 -0.061694  ...  0.005138  0.002461   \n",
       "498 -0.101766 -0.054886 -0.071931 -0.071147  ...  0.000965  0.002036   \n",
       "499 -0.136757 -0.098229 -0.064951 -0.083832  ... -0.040397 -0.005039   \n",
       "\n",
       "         pc18      pc19      pc20      pc21      pc22      pc23      pc24  \\\n",
       "0    0.022756  0.000195  0.071161 -0.049720 -0.048302 -0.002819 -0.002141   \n",
       "1    0.030483 -0.051780 -0.325630 -0.302375 -0.148101 -0.161064  0.489401   \n",
       "2   -0.008467  0.061316  0.059546  0.023483 -0.017379  0.022506 -0.041338   \n",
       "3    0.047166 -0.102100  0.075618  0.066416  0.033154 -0.066022 -0.207818   \n",
       "4    0.032357  0.079472 -0.060733  0.037330  0.028591 -0.142991  0.039725   \n",
       "..        ...       ...       ...       ...       ...       ...       ...   \n",
       "495 -0.019859 -0.007146  0.007741  0.003029 -0.012925  0.003634  0.000924   \n",
       "496 -0.024264  0.002426  0.026195 -0.000976 -0.012036  0.004757  0.005917   \n",
       "497 -0.008431 -0.020376 -0.032536  0.016535  0.028655  0.007412  0.000689   \n",
       "498 -0.012690  0.001191 -0.074622  0.015925  0.041389 -0.003235  0.029289   \n",
       "499  0.006906  0.090448 -0.242910  0.096767  0.179889 -0.039693 -0.106852   \n",
       "\n",
       "         pc25  \n",
       "0   -0.079810  \n",
       "1   -0.116802  \n",
       "2   -0.004248  \n",
       "3    0.060959  \n",
       "4    0.042293  \n",
       "..        ...  \n",
       "495  0.056606  \n",
       "496  0.026845  \n",
       "497  0.053279  \n",
       "498  0.068898  \n",
       "499  0.375572  \n",
       "\n",
       "[500 rows x 25 columns]"
      ]
     },
     "execution_count": 65,
     "metadata": {},
     "output_type": "execute_result"
    }
   ],
   "source": [
    "t1 = list('p'*25)\n",
    "t2 = list('c'*25)\n",
    "t3 = list(range(1,26))\n",
    "pca_list = []\n",
    "for i in range (0,25):\n",
    "    t = t1[i]+t2[i]+str(t3[i])\n",
    "    pca_list.append(t)\n",
    "    \n",
    "x_pca = pd.DataFrame(arr,columns=pca_list)   \n",
    "x_pca\n"
   ]
  },
  {
   "cell_type": "code",
   "execution_count": 66,
   "id": "7161ca64",
   "metadata": {},
   "outputs": [
    {
     "data": {
      "text/plain": [
       "1.0    64.2\n",
       "0.0    35.8\n",
       "Name: Car, dtype: float64"
      ]
     },
     "execution_count": 66,
     "metadata": {},
     "output_type": "execute_result"
    }
   ],
   "source": [
    "y.value_counts()/len(y)*100"
   ]
  },
  {
   "cell_type": "code",
   "execution_count": 67,
   "id": "ffe2a600",
   "metadata": {},
   "outputs": [],
   "source": [
    "# unbalance data so sampling is required"
   ]
  },
  {
   "cell_type": "markdown",
   "id": "6a8c7991",
   "metadata": {},
   "source": [
    "# sampling"
   ]
  },
  {
   "cell_type": "code",
   "execution_count": 68,
   "id": "9ac7b20e",
   "metadata": {},
   "outputs": [],
   "source": [
    "from imblearn.over_sampling import RandomOverSampler,SMOTE"
   ]
  },
  {
   "cell_type": "code",
   "execution_count": 69,
   "id": "747e76ba",
   "metadata": {},
   "outputs": [],
   "source": [
    "sample = SMOTE(sampling_strategy=0.95)\n",
    "x_re,y_re = sample.fit_resample(x_pca,y)"
   ]
  },
  {
   "cell_type": "markdown",
   "id": "7fa2ee62",
   "metadata": {},
   "source": [
    "# model training"
   ]
  },
  {
   "cell_type": "code",
   "execution_count": 70,
   "id": "3ad72eb0",
   "metadata": {},
   "outputs": [],
   "source": [
    "from sklearn.model_selection import train_test_split,RandomizedSearchCV,GridSearchCV\n",
    "from sklearn.linear_model import LogisticRegression\n",
    "from sklearn.metrics import accuracy_score,confusion_matrix,classification_report"
   ]
  },
  {
   "cell_type": "code",
   "execution_count": 71,
   "id": "bed13046",
   "metadata": {},
   "outputs": [
    {
     "data": {
      "text/plain": [
       "((437, 25), (188, 25), (437,), (188,))"
      ]
     },
     "execution_count": 71,
     "metadata": {},
     "output_type": "execute_result"
    }
   ],
   "source": [
    "x_train,x_test,y_train,y_test = train_test_split(x_re,y_re,stratify=y_re,train_size=0.7,random_state=45)\n",
    "x_train.shape,x_test.shape,y_train.shape,y_test.shape"
   ]
  },
  {
   "cell_type": "code",
   "execution_count": 72,
   "id": "d634ee58",
   "metadata": {},
   "outputs": [
    {
     "data": {
      "text/plain": [
       "1.0    51.36\n",
       "0.0    48.64\n",
       "Name: Car, dtype: float64"
      ]
     },
     "execution_count": 72,
     "metadata": {},
     "output_type": "execute_result"
    }
   ],
   "source": [
    "y_re.value_counts()/len(y_re)*100"
   ]
  },
  {
   "cell_type": "markdown",
   "id": "6778cb6d",
   "metadata": {},
   "source": [
    "# logistic regressiion"
   ]
  },
  {
   "cell_type": "code",
   "execution_count": 73,
   "id": "65890bbb",
   "metadata": {},
   "outputs": [
    {
     "name": "stderr",
     "output_type": "stream",
     "text": [
      "C:\\anacondaaa\\lib\\site-packages\\sklearn\\linear_model\\_logistic.py:814: ConvergenceWarning: lbfgs failed to converge (status=1):\n",
      "STOP: TOTAL NO. of ITERATIONS REACHED LIMIT.\n",
      "\n",
      "Increase the number of iterations (max_iter) or scale the data as shown in:\n",
      "    https://scikit-learn.org/stable/modules/preprocessing.html\n",
      "Please also refer to the documentation for alternative solver options:\n",
      "    https://scikit-learn.org/stable/modules/linear_model.html#logistic-regression\n",
      "  n_iter_i = _check_optimize_result(\n"
     ]
    },
    {
     "data": {
      "text/plain": [
       "LogisticRegression()"
      ]
     },
     "execution_count": 73,
     "metadata": {},
     "output_type": "execute_result"
    }
   ],
   "source": [
    "lr = LogisticRegression()\n",
    "lr.fit(x_train,y_train)"
   ]
  },
  {
   "cell_type": "markdown",
   "id": "3f5cc68e",
   "metadata": {},
   "source": [
    "# model eval"
   ]
  },
  {
   "cell_type": "code",
   "execution_count": 74,
   "id": "50d56d30",
   "metadata": {},
   "outputs": [],
   "source": [
    "def model_eval ( x,y,model):\n",
    "    y_pred = model.predict(x)\n",
    "    cm = confusion_matrix(y,y_pred)\n",
    "    print(f'CONFUSION MATRIX = \\n{cm}')\n",
    "    print('*'*25)\n",
    "    cr = classification_report(y,y_pred)\n",
    "    print(f'CLASSIFICATION REPORT = \\n{cr}')\n",
    "    print('*'*25)\n",
    "    acc = accuracy_score(y,y_pred)\n",
    "    print(f'ACCURACY SCORE = \\n{acc}')\n",
    "    print('*'*25)\n",
    "    "
   ]
  },
  {
   "cell_type": "markdown",
   "id": "f8e302ed",
   "metadata": {},
   "source": [
    "# traing accuracy"
   ]
  },
  {
   "cell_type": "code",
   "execution_count": 75,
   "id": "e410c195",
   "metadata": {},
   "outputs": [
    {
     "name": "stdout",
     "output_type": "stream",
     "text": [
      "CONFUSION MATRIX = \n",
      "[[191  22]\n",
      " [ 22 202]]\n",
      "*************************\n",
      "CLASSIFICATION REPORT = \n",
      "              precision    recall  f1-score   support\n",
      "\n",
      "         0.0       0.90      0.90      0.90       213\n",
      "         1.0       0.90      0.90      0.90       224\n",
      "\n",
      "    accuracy                           0.90       437\n",
      "   macro avg       0.90      0.90      0.90       437\n",
      "weighted avg       0.90      0.90      0.90       437\n",
      "\n",
      "*************************\n",
      "ACCURACY SCORE = \n",
      "0.8993135011441648\n",
      "*************************\n"
     ]
    }
   ],
   "source": [
    "model_eval(x_train,y_train,lr)"
   ]
  },
  {
   "cell_type": "markdown",
   "id": "9574ae65",
   "metadata": {},
   "source": [
    "# testing"
   ]
  },
  {
   "cell_type": "code",
   "execution_count": 76,
   "id": "08e42259",
   "metadata": {},
   "outputs": [
    {
     "name": "stdout",
     "output_type": "stream",
     "text": [
      "CONFUSION MATRIX = \n",
      "[[81 10]\n",
      " [ 9 88]]\n",
      "*************************\n",
      "CLASSIFICATION REPORT = \n",
      "              precision    recall  f1-score   support\n",
      "\n",
      "         0.0       0.90      0.89      0.90        91\n",
      "         1.0       0.90      0.91      0.90        97\n",
      "\n",
      "    accuracy                           0.90       188\n",
      "   macro avg       0.90      0.90      0.90       188\n",
      "weighted avg       0.90      0.90      0.90       188\n",
      "\n",
      "*************************\n",
      "ACCURACY SCORE = \n",
      "0.898936170212766\n",
      "*************************\n"
     ]
    }
   ],
   "source": [
    "model_eval(x_test,y_test,lr)"
   ]
  },
  {
   "cell_type": "code",
   "execution_count": null,
   "id": "d0385840",
   "metadata": {},
   "outputs": [],
   "source": []
  },
  {
   "cell_type": "markdown",
   "id": "b5edf716",
   "metadata": {},
   "source": [
    "# DTree"
   ]
  },
  {
   "cell_type": "code",
   "execution_count": 77,
   "id": "abda5c5b",
   "metadata": {},
   "outputs": [],
   "source": [
    "from sklearn.tree import DecisionTreeClassifier"
   ]
  },
  {
   "cell_type": "code",
   "execution_count": 78,
   "id": "6f3046f6",
   "metadata": {},
   "outputs": [
    {
     "data": {
      "text/plain": [
       "DecisionTreeClassifier(random_state=45)"
      ]
     },
     "execution_count": 78,
     "metadata": {},
     "output_type": "execute_result"
    }
   ],
   "source": [
    "dt = DecisionTreeClassifier(random_state=45)\n",
    "dt.fit(x_train,y_train)"
   ]
  },
  {
   "cell_type": "markdown",
   "id": "49208211",
   "metadata": {},
   "source": [
    "# training accuracy"
   ]
  },
  {
   "cell_type": "code",
   "execution_count": 79,
   "id": "47a7d186",
   "metadata": {},
   "outputs": [
    {
     "name": "stdout",
     "output_type": "stream",
     "text": [
      "CONFUSION MATRIX = \n",
      "[[213   0]\n",
      " [  0 224]]\n",
      "*************************\n",
      "CLASSIFICATION REPORT = \n",
      "              precision    recall  f1-score   support\n",
      "\n",
      "         0.0       1.00      1.00      1.00       213\n",
      "         1.0       1.00      1.00      1.00       224\n",
      "\n",
      "    accuracy                           1.00       437\n",
      "   macro avg       1.00      1.00      1.00       437\n",
      "weighted avg       1.00      1.00      1.00       437\n",
      "\n",
      "*************************\n",
      "ACCURACY SCORE = \n",
      "1.0\n",
      "*************************\n"
     ]
    }
   ],
   "source": [
    "model_eval(x_train,y_train,dt)"
   ]
  },
  {
   "cell_type": "markdown",
   "id": "fe9262c9",
   "metadata": {},
   "source": [
    "# testing "
   ]
  },
  {
   "cell_type": "code",
   "execution_count": 80,
   "id": "15cd10f4",
   "metadata": {},
   "outputs": [
    {
     "name": "stdout",
     "output_type": "stream",
     "text": [
      "CONFUSION MATRIX = \n",
      "[[84  7]\n",
      " [ 9 88]]\n",
      "*************************\n",
      "CLASSIFICATION REPORT = \n",
      "              precision    recall  f1-score   support\n",
      "\n",
      "         0.0       0.90      0.92      0.91        91\n",
      "         1.0       0.93      0.91      0.92        97\n",
      "\n",
      "    accuracy                           0.91       188\n",
      "   macro avg       0.91      0.92      0.91       188\n",
      "weighted avg       0.92      0.91      0.91       188\n",
      "\n",
      "*************************\n",
      "ACCURACY SCORE = \n",
      "0.9148936170212766\n",
      "*************************\n"
     ]
    }
   ],
   "source": [
    "model_eval(x_test,y_test,dt)"
   ]
  },
  {
   "cell_type": "markdown",
   "id": "cc8bf702",
   "metadata": {},
   "source": [
    "# Hyperparameter tunning"
   ]
  },
  {
   "cell_type": "code",
   "execution_count": 81,
   "id": "63b1139e",
   "metadata": {},
   "outputs": [
    {
     "data": {
      "text/plain": [
       "DecisionTreeClassifier(max_depth=9, min_samples_leaf=4, min_samples_split=6,\n",
       "                       random_state=45)"
      ]
     },
     "execution_count": 81,
     "metadata": {},
     "output_type": "execute_result"
    }
   ],
   "source": [
    "dt = DecisionTreeClassifier(random_state=45)\n",
    "hyp = {'criterion':['gini','entropy'],\n",
    "        'max_depth':np.arange(3,10),\n",
    "        'min_samples_split':np.arange(2,10),\n",
    "        'min_samples_leaf':np.arange(3,10),\n",
    "      }\n",
    "\n",
    "rscv = RandomizedSearchCV(dt,hyp)\n",
    "rscv.fit(x_train,y_train)\n",
    "rscv.best_estimator_"
   ]
  },
  {
   "cell_type": "code",
   "execution_count": 82,
   "id": "21cde48c",
   "metadata": {},
   "outputs": [
    {
     "data": {
      "text/plain": [
       "DecisionTreeClassifier(max_depth=9, min_samples_leaf=4, min_samples_split=6,\n",
       "                       random_state=45)"
      ]
     },
     "execution_count": 82,
     "metadata": {},
     "output_type": "execute_result"
    }
   ],
   "source": [
    "dt = rscv.best_estimator_\n",
    "dt.fit(x_train,y_train)"
   ]
  },
  {
   "cell_type": "markdown",
   "id": "86cd5e49",
   "metadata": {},
   "source": [
    "# model eval"
   ]
  },
  {
   "cell_type": "code",
   "execution_count": 83,
   "id": "02e1c4d6",
   "metadata": {},
   "outputs": [
    {
     "name": "stdout",
     "output_type": "stream",
     "text": [
      "CONFUSION MATRIX = \n",
      "[[207   6]\n",
      " [ 12 212]]\n",
      "*************************\n",
      "CLASSIFICATION REPORT = \n",
      "              precision    recall  f1-score   support\n",
      "\n",
      "         0.0       0.95      0.97      0.96       213\n",
      "         1.0       0.97      0.95      0.96       224\n",
      "\n",
      "    accuracy                           0.96       437\n",
      "   macro avg       0.96      0.96      0.96       437\n",
      "weighted avg       0.96      0.96      0.96       437\n",
      "\n",
      "*************************\n",
      "ACCURACY SCORE = \n",
      "0.9588100686498856\n",
      "*************************\n"
     ]
    }
   ],
   "source": [
    "# training accuracy \n",
    "\n",
    "model_eval(x_train,y_train,dt)"
   ]
  },
  {
   "cell_type": "code",
   "execution_count": 84,
   "id": "1bcf0d31",
   "metadata": {},
   "outputs": [
    {
     "name": "stdout",
     "output_type": "stream",
     "text": [
      "CONFUSION MATRIX = \n",
      "[[82  9]\n",
      " [14 83]]\n",
      "*************************\n",
      "CLASSIFICATION REPORT = \n",
      "              precision    recall  f1-score   support\n",
      "\n",
      "         0.0       0.85      0.90      0.88        91\n",
      "         1.0       0.90      0.86      0.88        97\n",
      "\n",
      "    accuracy                           0.88       188\n",
      "   macro avg       0.88      0.88      0.88       188\n",
      "weighted avg       0.88      0.88      0.88       188\n",
      "\n",
      "*************************\n",
      "ACCURACY SCORE = \n",
      "0.8776595744680851\n",
      "*************************\n"
     ]
    }
   ],
   "source": [
    "# testing accuracy\n",
    "\n",
    "model_eval(x_test,y_test,dt)"
   ]
  },
  {
   "cell_type": "markdown",
   "id": "4cab6539",
   "metadata": {},
   "source": [
    "# Randomforest"
   ]
  },
  {
   "cell_type": "code",
   "execution_count": 85,
   "id": "4d29b880",
   "metadata": {},
   "outputs": [],
   "source": [
    "from sklearn.ensemble import RandomForestClassifier,AdaBoostClassifier"
   ]
  },
  {
   "cell_type": "code",
   "execution_count": 86,
   "id": "134706a3",
   "metadata": {},
   "outputs": [
    {
     "data": {
      "text/plain": [
       "RandomForestClassifier(random_state=45)"
      ]
     },
     "execution_count": 86,
     "metadata": {},
     "output_type": "execute_result"
    }
   ],
   "source": [
    "rf = RandomForestClassifier(random_state=45)\n",
    "rf.fit(x_train,y_train)"
   ]
  },
  {
   "cell_type": "markdown",
   "id": "4f6078d9",
   "metadata": {},
   "source": [
    "# model eval"
   ]
  },
  {
   "cell_type": "code",
   "execution_count": 87,
   "id": "03e03ab1",
   "metadata": {},
   "outputs": [
    {
     "name": "stdout",
     "output_type": "stream",
     "text": [
      "CONFUSION MATRIX = \n",
      "[[213   0]\n",
      " [  0 224]]\n",
      "*************************\n",
      "CLASSIFICATION REPORT = \n",
      "              precision    recall  f1-score   support\n",
      "\n",
      "         0.0       1.00      1.00      1.00       213\n",
      "         1.0       1.00      1.00      1.00       224\n",
      "\n",
      "    accuracy                           1.00       437\n",
      "   macro avg       1.00      1.00      1.00       437\n",
      "weighted avg       1.00      1.00      1.00       437\n",
      "\n",
      "*************************\n",
      "ACCURACY SCORE = \n",
      "1.0\n",
      "*************************\n"
     ]
    }
   ],
   "source": [
    "# training accuracy\n",
    "model_eval(x_train,y_train,rf)"
   ]
  },
  {
   "cell_type": "code",
   "execution_count": 88,
   "id": "2779f765",
   "metadata": {},
   "outputs": [
    {
     "name": "stdout",
     "output_type": "stream",
     "text": [
      "CONFUSION MATRIX = \n",
      "[[88  3]\n",
      " [ 5 92]]\n",
      "*************************\n",
      "CLASSIFICATION REPORT = \n",
      "              precision    recall  f1-score   support\n",
      "\n",
      "         0.0       0.95      0.97      0.96        91\n",
      "         1.0       0.97      0.95      0.96        97\n",
      "\n",
      "    accuracy                           0.96       188\n",
      "   macro avg       0.96      0.96      0.96       188\n",
      "weighted avg       0.96      0.96      0.96       188\n",
      "\n",
      "*************************\n",
      "ACCURACY SCORE = \n",
      "0.9574468085106383\n",
      "*************************\n"
     ]
    }
   ],
   "source": [
    "# testing accuracy\n",
    "model_eval(x_test,y_test,rf)"
   ]
  },
  {
   "cell_type": "markdown",
   "id": "46780c7d",
   "metadata": {},
   "source": [
    "# Hyperparameter tunning"
   ]
  },
  {
   "cell_type": "code",
   "execution_count": 89,
   "id": "d5062ef6",
   "metadata": {},
   "outputs": [
    {
     "data": {
      "text/plain": [
       "RandomForestClassifier(max_depth=7, min_samples_leaf=4, min_samples_split=15,\n",
       "                       n_estimators=54, random_state=45)"
      ]
     },
     "execution_count": 89,
     "metadata": {},
     "output_type": "execute_result"
    }
   ],
   "source": [
    "rf2 = RandomForestClassifier(random_state=45)\n",
    "hype = {\"criterion\":['gini','entropy'],\n",
    "       \"max_depth\":np.arange(2,10),\n",
    "       \"min_samples_leaf\": np.arange(3,10),\n",
    "       \"min_samples_split\":np.arange(2,20),\n",
    "       \"n_estimators\":np.arange(50,100)}\n",
    "rscv = RandomizedSearchCV(rf2,hype)\n",
    "rscv.fit(x_train,y_train)\n",
    "rscv.best_estimator_\n",
    "rf2 = rscv.best_estimator_\n",
    "rf2.fit(x_train,y_train)"
   ]
  },
  {
   "cell_type": "markdown",
   "id": "aa8961c2",
   "metadata": {},
   "source": [
    "# model evaluation"
   ]
  },
  {
   "cell_type": "code",
   "execution_count": 90,
   "id": "ec9b4bc2",
   "metadata": {},
   "outputs": [
    {
     "name": "stdout",
     "output_type": "stream",
     "text": [
      "CONFUSION MATRIX = \n",
      "[[203  10]\n",
      " [  9 215]]\n",
      "*************************\n",
      "CLASSIFICATION REPORT = \n",
      "              precision    recall  f1-score   support\n",
      "\n",
      "         0.0       0.96      0.95      0.96       213\n",
      "         1.0       0.96      0.96      0.96       224\n",
      "\n",
      "    accuracy                           0.96       437\n",
      "   macro avg       0.96      0.96      0.96       437\n",
      "weighted avg       0.96      0.96      0.96       437\n",
      "\n",
      "*************************\n",
      "ACCURACY SCORE = \n",
      "0.9565217391304348\n",
      "*************************\n"
     ]
    }
   ],
   "source": [
    "# traing accuracy\n",
    "\n",
    "model_eval(x_train,y_train,rf2)"
   ]
  },
  {
   "cell_type": "code",
   "execution_count": 91,
   "id": "06271616",
   "metadata": {},
   "outputs": [
    {
     "name": "stdout",
     "output_type": "stream",
     "text": [
      "CONFUSION MATRIX = \n",
      "[[80 11]\n",
      " [10 87]]\n",
      "*************************\n",
      "CLASSIFICATION REPORT = \n",
      "              precision    recall  f1-score   support\n",
      "\n",
      "         0.0       0.89      0.88      0.88        91\n",
      "         1.0       0.89      0.90      0.89        97\n",
      "\n",
      "    accuracy                           0.89       188\n",
      "   macro avg       0.89      0.89      0.89       188\n",
      "weighted avg       0.89      0.89      0.89       188\n",
      "\n",
      "*************************\n",
      "ACCURACY SCORE = \n",
      "0.8882978723404256\n",
      "*************************\n"
     ]
    }
   ],
   "source": [
    "# testing accuracy\n",
    "\n",
    "model_eval(x_test,y_test,rf2)"
   ]
  },
  {
   "cell_type": "code",
   "execution_count": 92,
   "id": "09df6172",
   "metadata": {},
   "outputs": [
    {
     "data": {
      "text/plain": [
       "array([0.21765669, 0.13688135, 0.0529852 , 0.01946531, 0.01480087,\n",
       "       0.01588268, 0.0632249 , 0.04032145, 0.01848783, 0.01858795,\n",
       "       0.0932584 , 0.023145  , 0.02806329, 0.05679894, 0.01358936,\n",
       "       0.02917517, 0.01798495, 0.01692092, 0.02823581, 0.02518351,\n",
       "       0.0127407 , 0.01276732, 0.01645141, 0.01378596, 0.01360503])"
      ]
     },
     "execution_count": 92,
     "metadata": {},
     "output_type": "execute_result"
    }
   ],
   "source": [
    "arrr=rf.feature_importances_\n",
    "arrr"
   ]
  },
  {
   "cell_type": "code",
   "execution_count": 93,
   "id": "ffe69b70",
   "metadata": {},
   "outputs": [
    {
     "data": {
      "text/plain": [
       "pc21    0.012741\n",
       "pc22    0.012767\n",
       "pc15    0.013589\n",
       "pc25    0.013605\n",
       "pc24    0.013786\n",
       "pc5     0.014801\n",
       "pc6     0.015883\n",
       "pc23    0.016451\n",
       "pc18    0.016921\n",
       "pc17    0.017985\n",
       "pc9     0.018488\n",
       "pc10    0.018588\n",
       "pc4     0.019465\n",
       "pc12    0.023145\n",
       "pc20    0.025184\n",
       "pc13    0.028063\n",
       "pc19    0.028236\n",
       "pc16    0.029175\n",
       "pc8     0.040321\n",
       "pc3     0.052985\n",
       "pc14    0.056799\n",
       "pc7     0.063225\n",
       "pc11    0.093258\n",
       "pc2     0.136881\n",
       "pc1     0.217657\n",
       "dtype: float64"
      ]
     },
     "execution_count": 93,
     "metadata": {},
     "output_type": "execute_result"
    }
   ],
   "source": [
    "s = pd.Series(arrr,index=pca_list)\n",
    "s.sort_values()"
   ]
  },
  {
   "cell_type": "markdown",
   "id": "19cf7ffd",
   "metadata": {},
   "source": [
    "# Ada boost"
   ]
  },
  {
   "cell_type": "code",
   "execution_count": 94,
   "id": "8322a79a",
   "metadata": {},
   "outputs": [
    {
     "data": {
      "text/plain": [
       "AdaBoostClassifier(random_state=45)"
      ]
     },
     "execution_count": 94,
     "metadata": {},
     "output_type": "execute_result"
    }
   ],
   "source": [
    "ada = AdaBoostClassifier(random_state=45)\n",
    "ada.fit(x_train,y_train)"
   ]
  },
  {
   "cell_type": "markdown",
   "id": "768724f7",
   "metadata": {},
   "source": [
    "# model eval"
   ]
  },
  {
   "cell_type": "code",
   "execution_count": 95,
   "id": "2475a1e4",
   "metadata": {},
   "outputs": [
    {
     "name": "stdout",
     "output_type": "stream",
     "text": [
      "CONFUSION MATRIX = \n",
      "[[213   0]\n",
      " [  0 224]]\n",
      "*************************\n",
      "CLASSIFICATION REPORT = \n",
      "              precision    recall  f1-score   support\n",
      "\n",
      "         0.0       1.00      1.00      1.00       213\n",
      "         1.0       1.00      1.00      1.00       224\n",
      "\n",
      "    accuracy                           1.00       437\n",
      "   macro avg       1.00      1.00      1.00       437\n",
      "weighted avg       1.00      1.00      1.00       437\n",
      "\n",
      "*************************\n",
      "ACCURACY SCORE = \n",
      "1.0\n",
      "*************************\n"
     ]
    }
   ],
   "source": [
    "# training accuracy \n",
    "\n",
    "model_eval(x_train,y_train,ada)"
   ]
  },
  {
   "cell_type": "code",
   "execution_count": 96,
   "id": "e8d5c07f",
   "metadata": {},
   "outputs": [
    {
     "name": "stdout",
     "output_type": "stream",
     "text": [
      "CONFUSION MATRIX = \n",
      "[[84  7]\n",
      " [ 6 91]]\n",
      "*************************\n",
      "CLASSIFICATION REPORT = \n",
      "              precision    recall  f1-score   support\n",
      "\n",
      "         0.0       0.93      0.92      0.93        91\n",
      "         1.0       0.93      0.94      0.93        97\n",
      "\n",
      "    accuracy                           0.93       188\n",
      "   macro avg       0.93      0.93      0.93       188\n",
      "weighted avg       0.93      0.93      0.93       188\n",
      "\n",
      "*************************\n",
      "ACCURACY SCORE = \n",
      "0.9308510638297872\n",
      "*************************\n"
     ]
    }
   ],
   "source": [
    "# testing accuracy \n",
    "\n",
    "model_eval(x_test,y_test,ada)"
   ]
  },
  {
   "cell_type": "markdown",
   "id": "1479e667",
   "metadata": {},
   "source": [
    "# HYperparameter tunning"
   ]
  },
  {
   "cell_type": "code",
   "execution_count": 97,
   "id": "0ed68a33",
   "metadata": {},
   "outputs": [
    {
     "data": {
      "text/plain": [
       "AdaBoostClassifier(learning_rate=0.5, n_estimators=57, random_state=45)"
      ]
     },
     "execution_count": 97,
     "metadata": {},
     "output_type": "execute_result"
    }
   ],
   "source": [
    "ada1 = AdaBoostClassifier(random_state  = 45)\n",
    "hype = {\"n_estimators\":np.arange(50,100),\n",
    "       \"learning_rate\":np.arange(0.1,1.1,0.1)}\n",
    "rscv = RandomizedSearchCV(ada1,hype)\n",
    "rscv.fit(x_train,y_train)\n",
    "rscv.best_estimator_\n",
    "ada2 = rscv.best_estimator_\n",
    "ada2.fit(x_train,y_train)"
   ]
  },
  {
   "cell_type": "markdown",
   "id": "81ffada9",
   "metadata": {},
   "source": [
    "# model eval"
   ]
  },
  {
   "cell_type": "code",
   "execution_count": 98,
   "id": "6cf1e9cd",
   "metadata": {},
   "outputs": [
    {
     "name": "stdout",
     "output_type": "stream",
     "text": [
      "CONFUSION MATRIX = \n",
      "[[207   6]\n",
      " [  6 218]]\n",
      "*************************\n",
      "CLASSIFICATION REPORT = \n",
      "              precision    recall  f1-score   support\n",
      "\n",
      "         0.0       0.97      0.97      0.97       213\n",
      "         1.0       0.97      0.97      0.97       224\n",
      "\n",
      "    accuracy                           0.97       437\n",
      "   macro avg       0.97      0.97      0.97       437\n",
      "weighted avg       0.97      0.97      0.97       437\n",
      "\n",
      "*************************\n",
      "ACCURACY SCORE = \n",
      "0.9725400457665904\n",
      "*************************\n"
     ]
    }
   ],
   "source": [
    "# training accuracy\n",
    "\n",
    "model_eval(x_train,y_train,ada2)"
   ]
  },
  {
   "cell_type": "code",
   "execution_count": 99,
   "id": "3d0b09e3",
   "metadata": {},
   "outputs": [
    {
     "name": "stdout",
     "output_type": "stream",
     "text": [
      "CONFUSION MATRIX = \n",
      "[[83  8]\n",
      " [ 6 91]]\n",
      "*************************\n",
      "CLASSIFICATION REPORT = \n",
      "              precision    recall  f1-score   support\n",
      "\n",
      "         0.0       0.93      0.91      0.92        91\n",
      "         1.0       0.92      0.94      0.93        97\n",
      "\n",
      "    accuracy                           0.93       188\n",
      "   macro avg       0.93      0.93      0.93       188\n",
      "weighted avg       0.93      0.93      0.93       188\n",
      "\n",
      "*************************\n",
      "ACCURACY SCORE = \n",
      "0.925531914893617\n",
      "*************************\n"
     ]
    }
   ],
   "source": [
    "# testing accuracy\n",
    "\n",
    "model_eval(x_test,y_test,ada2)"
   ]
  },
  {
   "cell_type": "code",
   "execution_count": 100,
   "id": "6a14a217",
   "metadata": {},
   "outputs": [
    {
     "data": {
      "text/plain": [
       "pc18    0.000000\n",
       "pc9     0.000000\n",
       "pc17    0.000000\n",
       "pc12    0.000000\n",
       "pc14    0.000000\n",
       "pc23    0.017544\n",
       "pc22    0.017544\n",
       "pc21    0.017544\n",
       "pc5     0.017544\n",
       "pc10    0.017544\n",
       "pc24    0.017544\n",
       "pc20    0.035088\n",
       "pc19    0.035088\n",
       "pc13    0.052632\n",
       "pc25    0.052632\n",
       "pc8     0.052632\n",
       "pc4     0.052632\n",
       "pc15    0.052632\n",
       "pc16    0.070175\n",
       "pc11    0.070175\n",
       "pc6     0.070175\n",
       "pc3     0.070175\n",
       "pc2     0.070175\n",
       "pc1     0.070175\n",
       "pc7     0.140351\n",
       "dtype: float64"
      ]
     },
     "execution_count": 100,
     "metadata": {},
     "output_type": "execute_result"
    }
   ],
   "source": [
    "arrr=ada2.feature_importances_\n",
    "s = pd.Series(arrr,index=pca_list)\n",
    "s.sort_values()"
   ]
  },
  {
   "cell_type": "markdown",
   "id": "7a9cc38f",
   "metadata": {},
   "source": [
    "# KNN"
   ]
  },
  {
   "cell_type": "code",
   "execution_count": 101,
   "id": "46efaad3",
   "metadata": {},
   "outputs": [],
   "source": [
    "from sklearn.neighbors import KNeighborsClassifier\n",
    "from sklearn.preprocessing import MinMaxScaler"
   ]
  },
  {
   "cell_type": "code",
   "execution_count": 102,
   "id": "ddc7555f",
   "metadata": {},
   "outputs": [
    {
     "data": {
      "text/html": [
       "<div>\n",
       "<style scoped>\n",
       "    .dataframe tbody tr th:only-of-type {\n",
       "        vertical-align: middle;\n",
       "    }\n",
       "\n",
       "    .dataframe tbody tr th {\n",
       "        vertical-align: top;\n",
       "    }\n",
       "\n",
       "    .dataframe thead th {\n",
       "        text-align: right;\n",
       "    }\n",
       "</style>\n",
       "<table border=\"1\" class=\"dataframe\">\n",
       "  <thead>\n",
       "    <tr style=\"text-align: right;\">\n",
       "      <th></th>\n",
       "      <th>pc1</th>\n",
       "      <th>pc2</th>\n",
       "      <th>pc3</th>\n",
       "      <th>pc4</th>\n",
       "      <th>pc5</th>\n",
       "      <th>pc6</th>\n",
       "      <th>pc7</th>\n",
       "      <th>pc8</th>\n",
       "      <th>pc9</th>\n",
       "      <th>pc10</th>\n",
       "      <th>...</th>\n",
       "      <th>pc16</th>\n",
       "      <th>pc17</th>\n",
       "      <th>pc18</th>\n",
       "      <th>pc19</th>\n",
       "      <th>pc20</th>\n",
       "      <th>pc21</th>\n",
       "      <th>pc22</th>\n",
       "      <th>pc23</th>\n",
       "      <th>pc24</th>\n",
       "      <th>pc25</th>\n",
       "    </tr>\n",
       "  </thead>\n",
       "  <tbody>\n",
       "    <tr>\n",
       "      <th>0</th>\n",
       "      <td>0.999860</td>\n",
       "      <td>0.667588</td>\n",
       "      <td>0.266180</td>\n",
       "      <td>0.460457</td>\n",
       "      <td>0.389945</td>\n",
       "      <td>0.239176</td>\n",
       "      <td>0.394888</td>\n",
       "      <td>0.273243</td>\n",
       "      <td>0.379567</td>\n",
       "      <td>0.072896</td>\n",
       "      <td>...</td>\n",
       "      <td>0.047633</td>\n",
       "      <td>0.335084</td>\n",
       "      <td>0.442237</td>\n",
       "      <td>0.494749</td>\n",
       "      <td>0.468005</td>\n",
       "      <td>0.256338</td>\n",
       "      <td>0.338953</td>\n",
       "      <td>0.289760</td>\n",
       "      <td>0.452142</td>\n",
       "      <td>0.361887</td>\n",
       "    </tr>\n",
       "    <tr>\n",
       "      <th>1</th>\n",
       "      <td>0.999906</td>\n",
       "      <td>0.557069</td>\n",
       "      <td>0.533836</td>\n",
       "      <td>0.096769</td>\n",
       "      <td>0.383398</td>\n",
       "      <td>0.247827</td>\n",
       "      <td>0.440421</td>\n",
       "      <td>0.359365</td>\n",
       "      <td>0.408358</td>\n",
       "      <td>0.080720</td>\n",
       "      <td>...</td>\n",
       "      <td>0.337356</td>\n",
       "      <td>0.443745</td>\n",
       "      <td>0.448145</td>\n",
       "      <td>0.446622</td>\n",
       "      <td>0.070205</td>\n",
       "      <td>0.045590</td>\n",
       "      <td>0.260028</td>\n",
       "      <td>0.157793</td>\n",
       "      <td>0.890331</td>\n",
       "      <td>0.321330</td>\n",
       "    </tr>\n",
       "    <tr>\n",
       "      <th>2</th>\n",
       "      <td>0.999766</td>\n",
       "      <td>0.889212</td>\n",
       "      <td>0.481914</td>\n",
       "      <td>0.112081</td>\n",
       "      <td>0.254998</td>\n",
       "      <td>0.536279</td>\n",
       "      <td>0.251706</td>\n",
       "      <td>0.170436</td>\n",
       "      <td>0.081081</td>\n",
       "      <td>0.846756</td>\n",
       "      <td>...</td>\n",
       "      <td>0.382394</td>\n",
       "      <td>0.413790</td>\n",
       "      <td>0.418363</td>\n",
       "      <td>0.551345</td>\n",
       "      <td>0.456361</td>\n",
       "      <td>0.317399</td>\n",
       "      <td>0.363408</td>\n",
       "      <td>0.310880</td>\n",
       "      <td>0.417199</td>\n",
       "      <td>0.444732</td>\n",
       "    </tr>\n",
       "    <tr>\n",
       "      <th>3</th>\n",
       "      <td>1.000000</td>\n",
       "      <td>0.335549</td>\n",
       "      <td>0.557038</td>\n",
       "      <td>0.384082</td>\n",
       "      <td>0.589453</td>\n",
       "      <td>0.444602</td>\n",
       "      <td>0.384372</td>\n",
       "      <td>0.306314</td>\n",
       "      <td>0.430881</td>\n",
       "      <td>0.172639</td>\n",
       "      <td>...</td>\n",
       "      <td>0.382925</td>\n",
       "      <td>0.431392</td>\n",
       "      <td>0.460903</td>\n",
       "      <td>0.400027</td>\n",
       "      <td>0.472474</td>\n",
       "      <td>0.353211</td>\n",
       "      <td>0.403372</td>\n",
       "      <td>0.237052</td>\n",
       "      <td>0.268790</td>\n",
       "      <td>0.516223</td>\n",
       "    </tr>\n",
       "    <tr>\n",
       "      <th>4</th>\n",
       "      <td>0.999813</td>\n",
       "      <td>0.778118</td>\n",
       "      <td>0.233978</td>\n",
       "      <td>1.000000</td>\n",
       "      <td>0.120518</td>\n",
       "      <td>0.616263</td>\n",
       "      <td>0.266314</td>\n",
       "      <td>0.202583</td>\n",
       "      <td>0.388661</td>\n",
       "      <td>0.167880</td>\n",
       "      <td>...</td>\n",
       "      <td>0.451966</td>\n",
       "      <td>0.476091</td>\n",
       "      <td>0.449578</td>\n",
       "      <td>0.568157</td>\n",
       "      <td>0.335776</td>\n",
       "      <td>0.328950</td>\n",
       "      <td>0.399763</td>\n",
       "      <td>0.172865</td>\n",
       "      <td>0.489464</td>\n",
       "      <td>0.495757</td>\n",
       "    </tr>\n",
       "    <tr>\n",
       "      <th>...</th>\n",
       "      <td>...</td>\n",
       "      <td>...</td>\n",
       "      <td>...</td>\n",
       "      <td>...</td>\n",
       "      <td>...</td>\n",
       "      <td>...</td>\n",
       "      <td>...</td>\n",
       "      <td>...</td>\n",
       "      <td>...</td>\n",
       "      <td>...</td>\n",
       "      <td>...</td>\n",
       "      <td>...</td>\n",
       "      <td>...</td>\n",
       "      <td>...</td>\n",
       "      <td>...</td>\n",
       "      <td>...</td>\n",
       "      <td>...</td>\n",
       "      <td>...</td>\n",
       "      <td>...</td>\n",
       "      <td>...</td>\n",
       "      <td>...</td>\n",
       "    </tr>\n",
       "    <tr>\n",
       "      <th>495</th>\n",
       "      <td>0.444203</td>\n",
       "      <td>0.427003</td>\n",
       "      <td>0.370010</td>\n",
       "      <td>0.160771</td>\n",
       "      <td>0.235111</td>\n",
       "      <td>0.435375</td>\n",
       "      <td>0.335531</td>\n",
       "      <td>0.291874</td>\n",
       "      <td>0.296088</td>\n",
       "      <td>0.160974</td>\n",
       "      <td>...</td>\n",
       "      <td>0.334766</td>\n",
       "      <td>0.401134</td>\n",
       "      <td>0.409651</td>\n",
       "      <td>0.487951</td>\n",
       "      <td>0.404424</td>\n",
       "      <td>0.300337</td>\n",
       "      <td>0.366931</td>\n",
       "      <td>0.295141</td>\n",
       "      <td>0.454874</td>\n",
       "      <td>0.511450</td>\n",
       "    </tr>\n",
       "    <tr>\n",
       "      <th>496</th>\n",
       "      <td>0.285402</td>\n",
       "      <td>0.456225</td>\n",
       "      <td>0.221300</td>\n",
       "      <td>0.236736</td>\n",
       "      <td>0.228533</td>\n",
       "      <td>0.425378</td>\n",
       "      <td>1.000000</td>\n",
       "      <td>0.332380</td>\n",
       "      <td>0.306128</td>\n",
       "      <td>0.231617</td>\n",
       "      <td>...</td>\n",
       "      <td>0.357236</td>\n",
       "      <td>0.398855</td>\n",
       "      <td>0.406284</td>\n",
       "      <td>0.496815</td>\n",
       "      <td>0.422925</td>\n",
       "      <td>0.296997</td>\n",
       "      <td>0.367634</td>\n",
       "      <td>0.296078</td>\n",
       "      <td>0.459325</td>\n",
       "      <td>0.478820</td>\n",
       "    </tr>\n",
       "    <tr>\n",
       "      <th>497</th>\n",
       "      <td>0.348913</td>\n",
       "      <td>0.466678</td>\n",
       "      <td>0.268929</td>\n",
       "      <td>0.227616</td>\n",
       "      <td>0.405908</td>\n",
       "      <td>0.404836</td>\n",
       "      <td>0.297921</td>\n",
       "      <td>0.260048</td>\n",
       "      <td>0.295790</td>\n",
       "      <td>0.138877</td>\n",
       "      <td>...</td>\n",
       "      <td>0.343320</td>\n",
       "      <td>0.397114</td>\n",
       "      <td>0.418390</td>\n",
       "      <td>0.475701</td>\n",
       "      <td>0.364044</td>\n",
       "      <td>0.311603</td>\n",
       "      <td>0.399814</td>\n",
       "      <td>0.298292</td>\n",
       "      <td>0.454665</td>\n",
       "      <td>0.507802</td>\n",
       "    </tr>\n",
       "    <tr>\n",
       "      <th>498</th>\n",
       "      <td>0.221863</td>\n",
       "      <td>0.512189</td>\n",
       "      <td>0.117511</td>\n",
       "      <td>0.286236</td>\n",
       "      <td>0.400160</td>\n",
       "      <td>0.387772</td>\n",
       "      <td>0.272692</td>\n",
       "      <td>0.235454</td>\n",
       "      <td>0.270114</td>\n",
       "      <td>0.130643</td>\n",
       "      <td>...</td>\n",
       "      <td>0.339668</td>\n",
       "      <td>0.396768</td>\n",
       "      <td>0.415133</td>\n",
       "      <td>0.495671</td>\n",
       "      <td>0.321852</td>\n",
       "      <td>0.311095</td>\n",
       "      <td>0.409884</td>\n",
       "      <td>0.289413</td>\n",
       "      <td>0.480160</td>\n",
       "      <td>0.524926</td>\n",
       "    </tr>\n",
       "    <tr>\n",
       "      <th>499</th>\n",
       "      <td>0.202814</td>\n",
       "      <td>0.500149</td>\n",
       "      <td>0.093166</td>\n",
       "      <td>0.445720</td>\n",
       "      <td>0.494838</td>\n",
       "      <td>0.364496</td>\n",
       "      <td>0.248231</td>\n",
       "      <td>0.201603</td>\n",
       "      <td>0.275500</td>\n",
       "      <td>0.119593</td>\n",
       "      <td>...</td>\n",
       "      <td>0.303465</td>\n",
       "      <td>0.391002</td>\n",
       "      <td>0.430117</td>\n",
       "      <td>0.578320</td>\n",
       "      <td>0.153135</td>\n",
       "      <td>0.378528</td>\n",
       "      <td>0.519416</td>\n",
       "      <td>0.259010</td>\n",
       "      <td>0.358796</td>\n",
       "      <td>0.861154</td>\n",
       "    </tr>\n",
       "  </tbody>\n",
       "</table>\n",
       "<p>500 rows × 25 columns</p>\n",
       "</div>"
      ],
      "text/plain": [
       "          pc1       pc2       pc3       pc4       pc5       pc6       pc7  \\\n",
       "0    0.999860  0.667588  0.266180  0.460457  0.389945  0.239176  0.394888   \n",
       "1    0.999906  0.557069  0.533836  0.096769  0.383398  0.247827  0.440421   \n",
       "2    0.999766  0.889212  0.481914  0.112081  0.254998  0.536279  0.251706   \n",
       "3    1.000000  0.335549  0.557038  0.384082  0.589453  0.444602  0.384372   \n",
       "4    0.999813  0.778118  0.233978  1.000000  0.120518  0.616263  0.266314   \n",
       "..        ...       ...       ...       ...       ...       ...       ...   \n",
       "495  0.444203  0.427003  0.370010  0.160771  0.235111  0.435375  0.335531   \n",
       "496  0.285402  0.456225  0.221300  0.236736  0.228533  0.425378  1.000000   \n",
       "497  0.348913  0.466678  0.268929  0.227616  0.405908  0.404836  0.297921   \n",
       "498  0.221863  0.512189  0.117511  0.286236  0.400160  0.387772  0.272692   \n",
       "499  0.202814  0.500149  0.093166  0.445720  0.494838  0.364496  0.248231   \n",
       "\n",
       "          pc8       pc9      pc10  ...      pc16      pc17      pc18  \\\n",
       "0    0.273243  0.379567  0.072896  ...  0.047633  0.335084  0.442237   \n",
       "1    0.359365  0.408358  0.080720  ...  0.337356  0.443745  0.448145   \n",
       "2    0.170436  0.081081  0.846756  ...  0.382394  0.413790  0.418363   \n",
       "3    0.306314  0.430881  0.172639  ...  0.382925  0.431392  0.460903   \n",
       "4    0.202583  0.388661  0.167880  ...  0.451966  0.476091  0.449578   \n",
       "..        ...       ...       ...  ...       ...       ...       ...   \n",
       "495  0.291874  0.296088  0.160974  ...  0.334766  0.401134  0.409651   \n",
       "496  0.332380  0.306128  0.231617  ...  0.357236  0.398855  0.406284   \n",
       "497  0.260048  0.295790  0.138877  ...  0.343320  0.397114  0.418390   \n",
       "498  0.235454  0.270114  0.130643  ...  0.339668  0.396768  0.415133   \n",
       "499  0.201603  0.275500  0.119593  ...  0.303465  0.391002  0.430117   \n",
       "\n",
       "         pc19      pc20      pc21      pc22      pc23      pc24      pc25  \n",
       "0    0.494749  0.468005  0.256338  0.338953  0.289760  0.452142  0.361887  \n",
       "1    0.446622  0.070205  0.045590  0.260028  0.157793  0.890331  0.321330  \n",
       "2    0.551345  0.456361  0.317399  0.363408  0.310880  0.417199  0.444732  \n",
       "3    0.400027  0.472474  0.353211  0.403372  0.237052  0.268790  0.516223  \n",
       "4    0.568157  0.335776  0.328950  0.399763  0.172865  0.489464  0.495757  \n",
       "..        ...       ...       ...       ...       ...       ...       ...  \n",
       "495  0.487951  0.404424  0.300337  0.366931  0.295141  0.454874  0.511450  \n",
       "496  0.496815  0.422925  0.296997  0.367634  0.296078  0.459325  0.478820  \n",
       "497  0.475701  0.364044  0.311603  0.399814  0.298292  0.454665  0.507802  \n",
       "498  0.495671  0.321852  0.311095  0.409884  0.289413  0.480160  0.524926  \n",
       "499  0.578320  0.153135  0.378528  0.519416  0.259010  0.358796  0.861154  \n",
       "\n",
       "[500 rows x 25 columns]"
      ]
     },
     "execution_count": 102,
     "metadata": {},
     "output_type": "execute_result"
    }
   ],
   "source": [
    "scale = MinMaxScaler()\n",
    "arr=scale.fit_transform(x_pca)\n",
    "x_norms = pd.DataFrame(arr,columns = x_pca.columns)\n",
    "x_norms"
   ]
  },
  {
   "cell_type": "markdown",
   "id": "768232e1",
   "metadata": {},
   "source": [
    "# model training"
   ]
  },
  {
   "cell_type": "code",
   "execution_count": 103,
   "id": "5124bac1",
   "metadata": {},
   "outputs": [],
   "source": [
    "xnorm_train,xnorm_test,y_train1,y_test1 = train_test_split(x_norms,y,random_state=45,train_size=0.7,stratify=y)"
   ]
  },
  {
   "cell_type": "code",
   "execution_count": 104,
   "id": "91d06ba1",
   "metadata": {},
   "outputs": [
    {
     "data": {
      "text/plain": [
       "KNeighborsClassifier()"
      ]
     },
     "execution_count": 104,
     "metadata": {},
     "output_type": "execute_result"
    }
   ],
   "source": [
    "knn = KNeighborsClassifier()\n",
    "knn.fit(xnorm_train,y_train1)"
   ]
  },
  {
   "cell_type": "markdown",
   "id": "34ddbeb1",
   "metadata": {},
   "source": [
    "# model eval"
   ]
  },
  {
   "cell_type": "code",
   "execution_count": 105,
   "id": "c638c1f2",
   "metadata": {},
   "outputs": [
    {
     "name": "stdout",
     "output_type": "stream",
     "text": [
      "CONFUSION MATRIX = \n",
      "[[104  21]\n",
      " [  8 217]]\n",
      "*************************\n",
      "CLASSIFICATION REPORT = \n",
      "              precision    recall  f1-score   support\n",
      "\n",
      "         0.0       0.93      0.83      0.88       125\n",
      "         1.0       0.91      0.96      0.94       225\n",
      "\n",
      "    accuracy                           0.92       350\n",
      "   macro avg       0.92      0.90      0.91       350\n",
      "weighted avg       0.92      0.92      0.92       350\n",
      "\n",
      "*************************\n",
      "ACCURACY SCORE = \n",
      "0.9171428571428571\n",
      "*************************\n"
     ]
    }
   ],
   "source": [
    "# training accuracy\n",
    "\n",
    "model_eval(xnorm_train,y_train1,knn)"
   ]
  },
  {
   "cell_type": "code",
   "execution_count": 106,
   "id": "aa1147e1",
   "metadata": {},
   "outputs": [
    {
     "name": "stdout",
     "output_type": "stream",
     "text": [
      "CONFUSION MATRIX = \n",
      "[[41 13]\n",
      " [ 3 93]]\n",
      "*************************\n",
      "CLASSIFICATION REPORT = \n",
      "              precision    recall  f1-score   support\n",
      "\n",
      "         0.0       0.93      0.76      0.84        54\n",
      "         1.0       0.88      0.97      0.92        96\n",
      "\n",
      "    accuracy                           0.89       150\n",
      "   macro avg       0.90      0.86      0.88       150\n",
      "weighted avg       0.90      0.89      0.89       150\n",
      "\n",
      "*************************\n",
      "ACCURACY SCORE = \n",
      "0.8933333333333333\n",
      "*************************\n"
     ]
    }
   ],
   "source": [
    "# testing accuracy\n",
    "\n",
    "model_eval(xnorm_test,y_test1,knn)"
   ]
  },
  {
   "cell_type": "markdown",
   "id": "effedd24",
   "metadata": {},
   "source": [
    "# Hyperparameter tunning"
   ]
  },
  {
   "cell_type": "code",
   "execution_count": 107,
   "id": "ba6a8ad1",
   "metadata": {},
   "outputs": [
    {
     "data": {
      "text/plain": [
       "KNeighborsClassifier(n_neighbors=19, p=1)"
      ]
     },
     "execution_count": 107,
     "metadata": {},
     "output_type": "execute_result"
    }
   ],
   "source": [
    "knn1 = KNeighborsClassifier()\n",
    "hype = {'n_neighbors':np.arange(5,25),'p':[1,2]}\n",
    "rscv = RandomizedSearchCV(knn1,hype)\n",
    "rscv.fit(xnorm_train,y_train1)\n",
    "rscv.best_estimator_\n",
    "knn2 = rscv.best_estimator_\n",
    "knn2.fit(xnorm_train,y_train1)"
   ]
  },
  {
   "cell_type": "markdown",
   "id": "d4938ac1",
   "metadata": {},
   "source": [
    "# model eval"
   ]
  },
  {
   "cell_type": "code",
   "execution_count": 108,
   "id": "28f3dccd",
   "metadata": {},
   "outputs": [
    {
     "name": "stdout",
     "output_type": "stream",
     "text": [
      "CONFUSION MATRIX = \n",
      "[[ 89  36]\n",
      " [ 10 215]]\n",
      "*************************\n",
      "CLASSIFICATION REPORT = \n",
      "              precision    recall  f1-score   support\n",
      "\n",
      "         0.0       0.90      0.71      0.79       125\n",
      "         1.0       0.86      0.96      0.90       225\n",
      "\n",
      "    accuracy                           0.87       350\n",
      "   macro avg       0.88      0.83      0.85       350\n",
      "weighted avg       0.87      0.87      0.86       350\n",
      "\n",
      "*************************\n",
      "ACCURACY SCORE = \n",
      "0.8685714285714285\n",
      "*************************\n"
     ]
    }
   ],
   "source": [
    "# training accuracy \n",
    "\n",
    "model_eval(xnorm_train,y_train1,knn2)"
   ]
  },
  {
   "cell_type": "code",
   "execution_count": 109,
   "id": "c23a38b0",
   "metadata": {},
   "outputs": [
    {
     "name": "stdout",
     "output_type": "stream",
     "text": [
      "CONFUSION MATRIX = \n",
      "[[40 14]\n",
      " [ 2 94]]\n",
      "*************************\n",
      "CLASSIFICATION REPORT = \n",
      "              precision    recall  f1-score   support\n",
      "\n",
      "         0.0       0.95      0.74      0.83        54\n",
      "         1.0       0.87      0.98      0.92        96\n",
      "\n",
      "    accuracy                           0.89       150\n",
      "   macro avg       0.91      0.86      0.88       150\n",
      "weighted avg       0.90      0.89      0.89       150\n",
      "\n",
      "*************************\n",
      "ACCURACY SCORE = \n",
      "0.8933333333333333\n",
      "*************************\n"
     ]
    }
   ],
   "source": [
    "# testing accuracy \n",
    "\n",
    "model_eval(xnorm_test,y_test1,knn2)"
   ]
  },
  {
   "cell_type": "markdown",
   "id": "323e1cef",
   "metadata": {},
   "source": [
    "# user Defined function"
   ]
  },
  {
   "cell_type": "code",
   "execution_count": 110,
   "id": "bda5127e",
   "metadata": {},
   "outputs": [],
   "source": [
    "import json\n",
    "project_data = {'columns':x.columns.to_numpy().tolist(),\n",
    "                'Finance Status':{'Stable': 4,\n",
    "                                 'Unstable': 1,\n",
    "                                 'Fair': 2,\n",
    "                                 'Good': 3,\n",
    "                                 'Excellent': 5,\n",
    "                                 'Poor': 0,\n",
    "                                 'Unknown': 6},\n",
    "                'Finance History':{'Good': 3, \n",
    "                                   'Poor': 0, \n",
    "                                   'Fair': 1, \n",
    "                                   'Excellent': 4}\n",
    "               }\n",
    "with open ('project_data.json','w') as file:\n",
    "    json.dump(project_data,file)"
   ]
  },
  {
   "cell_type": "code",
   "execution_count": 111,
   "id": "40055fd9",
   "metadata": {},
   "outputs": [],
   "source": [
    "import pickle\n",
    "\n",
    "with open('model_rf.pkl','wb') as file:\n",
    "    pickle.dump(rf2,file)\n",
    "    \n",
    "    \n",
    "    "
   ]
  },
  {
   "cell_type": "code",
   "execution_count": 112,
   "id": "e926c64c",
   "metadata": {},
   "outputs": [],
   "source": [
    "with open('pca.pkl','wb') as file:\n",
    "    pickle.dump(pca,file)"
   ]
  },
  {
   "cell_type": "code",
   "execution_count": 113,
   "id": "078034f0",
   "metadata": {},
   "outputs": [
    {
     "data": {
      "text/html": [
       "<div>\n",
       "<style scoped>\n",
       "    .dataframe tbody tr th:only-of-type {\n",
       "        vertical-align: middle;\n",
       "    }\n",
       "\n",
       "    .dataframe tbody tr th {\n",
       "        vertical-align: top;\n",
       "    }\n",
       "\n",
       "    .dataframe thead th {\n",
       "        text-align: right;\n",
       "    }\n",
       "</style>\n",
       "<table border=\"1\" class=\"dataframe\">\n",
       "  <thead>\n",
       "    <tr style=\"text-align: right;\">\n",
       "      <th></th>\n",
       "      <th>Monthly Income</th>\n",
       "      <th>Credit Score</th>\n",
       "      <th>Years of Employment</th>\n",
       "      <th>Finance Status</th>\n",
       "      <th>Finance History</th>\n",
       "      <th>Car</th>\n",
       "      <th>Number of Children</th>\n",
       "      <th>Occupation_Account Executive</th>\n",
       "      <th>Occupation_Account Manager</th>\n",
       "      <th>Occupation_Accountant</th>\n",
       "      <th>...</th>\n",
       "      <th>Occupation_Software Dev</th>\n",
       "      <th>Occupation_Software Developer</th>\n",
       "      <th>Occupation_Software Engineer</th>\n",
       "      <th>Occupation_Teacher</th>\n",
       "      <th>Occupation_Veterinarian</th>\n",
       "      <th>Occupation_Veterinarian Technician</th>\n",
       "      <th>Occupation_Waiter/Waitress</th>\n",
       "      <th>Occupation_Web Designer</th>\n",
       "      <th>Occupation_Web Developer</th>\n",
       "      <th>Occupation_Writer</th>\n",
       "    </tr>\n",
       "  </thead>\n",
       "  <tbody>\n",
       "    <tr>\n",
       "      <th>0</th>\n",
       "      <td>15750.0</td>\n",
       "      <td>750.0</td>\n",
       "      <td>10.0</td>\n",
       "      <td>3.0</td>\n",
       "      <td>4.0</td>\n",
       "      <td>1.0</td>\n",
       "      <td>2.0</td>\n",
       "      <td>0.0</td>\n",
       "      <td>0.0</td>\n",
       "      <td>0.0</td>\n",
       "      <td>...</td>\n",
       "      <td>0.0</td>\n",
       "      <td>0.0</td>\n",
       "      <td>0.0</td>\n",
       "      <td>1.0</td>\n",
       "      <td>0.0</td>\n",
       "      <td>0.0</td>\n",
       "      <td>0.0</td>\n",
       "      <td>0.0</td>\n",
       "      <td>0.0</td>\n",
       "      <td>0.0</td>\n",
       "    </tr>\n",
       "    <tr>\n",
       "      <th>1</th>\n",
       "      <td>15750.0</td>\n",
       "      <td>800.0</td>\n",
       "      <td>8.0</td>\n",
       "      <td>3.0</td>\n",
       "      <td>4.0</td>\n",
       "      <td>1.0</td>\n",
       "      <td>1.0</td>\n",
       "      <td>0.0</td>\n",
       "      <td>0.0</td>\n",
       "      <td>0.0</td>\n",
       "      <td>...</td>\n",
       "      <td>0.0</td>\n",
       "      <td>0.0</td>\n",
       "      <td>0.0</td>\n",
       "      <td>0.0</td>\n",
       "      <td>0.0</td>\n",
       "      <td>0.0</td>\n",
       "      <td>0.0</td>\n",
       "      <td>0.0</td>\n",
       "      <td>0.0</td>\n",
       "      <td>0.0</td>\n",
       "    </tr>\n",
       "    <tr>\n",
       "      <th>2</th>\n",
       "      <td>15750.0</td>\n",
       "      <td>650.0</td>\n",
       "      <td>5.0</td>\n",
       "      <td>2.0</td>\n",
       "      <td>1.0</td>\n",
       "      <td>0.0</td>\n",
       "      <td>0.0</td>\n",
       "      <td>0.0</td>\n",
       "      <td>0.0</td>\n",
       "      <td>0.0</td>\n",
       "      <td>...</td>\n",
       "      <td>0.0</td>\n",
       "      <td>0.0</td>\n",
       "      <td>0.0</td>\n",
       "      <td>0.0</td>\n",
       "      <td>0.0</td>\n",
       "      <td>0.0</td>\n",
       "      <td>0.0</td>\n",
       "      <td>0.0</td>\n",
       "      <td>0.0</td>\n",
       "      <td>0.0</td>\n",
       "    </tr>\n",
       "    <tr>\n",
       "      <th>3</th>\n",
       "      <td>15750.0</td>\n",
       "      <td>900.0</td>\n",
       "      <td>12.0</td>\n",
       "      <td>5.0</td>\n",
       "      <td>4.0</td>\n",
       "      <td>1.0</td>\n",
       "      <td>3.0</td>\n",
       "      <td>0.0</td>\n",
       "      <td>0.0</td>\n",
       "      <td>0.0</td>\n",
       "      <td>...</td>\n",
       "      <td>0.0</td>\n",
       "      <td>0.0</td>\n",
       "      <td>0.0</td>\n",
       "      <td>0.0</td>\n",
       "      <td>0.0</td>\n",
       "      <td>0.0</td>\n",
       "      <td>0.0</td>\n",
       "      <td>0.0</td>\n",
       "      <td>0.0</td>\n",
       "      <td>0.0</td>\n",
       "    </tr>\n",
       "    <tr>\n",
       "      <th>4</th>\n",
       "      <td>15750.0</td>\n",
       "      <td>700.0</td>\n",
       "      <td>13.5</td>\n",
       "      <td>3.0</td>\n",
       "      <td>1.0</td>\n",
       "      <td>1.0</td>\n",
       "      <td>2.0</td>\n",
       "      <td>0.0</td>\n",
       "      <td>0.0</td>\n",
       "      <td>0.0</td>\n",
       "      <td>...</td>\n",
       "      <td>0.0</td>\n",
       "      <td>0.0</td>\n",
       "      <td>0.0</td>\n",
       "      <td>0.0</td>\n",
       "      <td>0.0</td>\n",
       "      <td>0.0</td>\n",
       "      <td>0.0</td>\n",
       "      <td>0.0</td>\n",
       "      <td>0.0</td>\n",
       "      <td>0.0</td>\n",
       "    </tr>\n",
       "    <tr>\n",
       "      <th>...</th>\n",
       "      <td>...</td>\n",
       "      <td>...</td>\n",
       "      <td>...</td>\n",
       "      <td>...</td>\n",
       "      <td>...</td>\n",
       "      <td>...</td>\n",
       "      <td>...</td>\n",
       "      <td>...</td>\n",
       "      <td>...</td>\n",
       "      <td>...</td>\n",
       "      <td>...</td>\n",
       "      <td>...</td>\n",
       "      <td>...</td>\n",
       "      <td>...</td>\n",
       "      <td>...</td>\n",
       "      <td>...</td>\n",
       "      <td>...</td>\n",
       "      <td>...</td>\n",
       "      <td>...</td>\n",
       "      <td>...</td>\n",
       "      <td>...</td>\n",
       "    </tr>\n",
       "    <tr>\n",
       "      <th>495</th>\n",
       "      <td>7000.0</td>\n",
       "      <td>730.0</td>\n",
       "      <td>5.0</td>\n",
       "      <td>4.0</td>\n",
       "      <td>3.0</td>\n",
       "      <td>1.0</td>\n",
       "      <td>0.0</td>\n",
       "      <td>0.0</td>\n",
       "      <td>0.0</td>\n",
       "      <td>0.0</td>\n",
       "      <td>...</td>\n",
       "      <td>0.0</td>\n",
       "      <td>0.0</td>\n",
       "      <td>0.0</td>\n",
       "      <td>0.0</td>\n",
       "      <td>0.0</td>\n",
       "      <td>0.0</td>\n",
       "      <td>0.0</td>\n",
       "      <td>0.0</td>\n",
       "      <td>0.0</td>\n",
       "      <td>0.0</td>\n",
       "    </tr>\n",
       "    <tr>\n",
       "      <th>496</th>\n",
       "      <td>4500.0</td>\n",
       "      <td>680.0</td>\n",
       "      <td>4.0</td>\n",
       "      <td>4.0</td>\n",
       "      <td>3.0</td>\n",
       "      <td>1.0</td>\n",
       "      <td>0.0</td>\n",
       "      <td>0.0</td>\n",
       "      <td>0.0</td>\n",
       "      <td>0.0</td>\n",
       "      <td>...</td>\n",
       "      <td>0.0</td>\n",
       "      <td>0.0</td>\n",
       "      <td>0.0</td>\n",
       "      <td>0.0</td>\n",
       "      <td>0.0</td>\n",
       "      <td>0.0</td>\n",
       "      <td>0.0</td>\n",
       "      <td>0.0</td>\n",
       "      <td>0.0</td>\n",
       "      <td>0.0</td>\n",
       "    </tr>\n",
       "    <tr>\n",
       "      <th>497</th>\n",
       "      <td>5500.0</td>\n",
       "      <td>690.0</td>\n",
       "      <td>4.0</td>\n",
       "      <td>4.0</td>\n",
       "      <td>3.0</td>\n",
       "      <td>1.0</td>\n",
       "      <td>1.0</td>\n",
       "      <td>0.0</td>\n",
       "      <td>0.0</td>\n",
       "      <td>0.0</td>\n",
       "      <td>...</td>\n",
       "      <td>0.0</td>\n",
       "      <td>0.0</td>\n",
       "      <td>0.0</td>\n",
       "      <td>0.0</td>\n",
       "      <td>0.0</td>\n",
       "      <td>0.0</td>\n",
       "      <td>0.0</td>\n",
       "      <td>0.0</td>\n",
       "      <td>0.0</td>\n",
       "      <td>0.0</td>\n",
       "    </tr>\n",
       "    <tr>\n",
       "      <th>498</th>\n",
       "      <td>3500.0</td>\n",
       "      <td>640.0</td>\n",
       "      <td>3.0</td>\n",
       "      <td>4.0</td>\n",
       "      <td>3.0</td>\n",
       "      <td>0.0</td>\n",
       "      <td>1.0</td>\n",
       "      <td>0.0</td>\n",
       "      <td>0.0</td>\n",
       "      <td>0.0</td>\n",
       "      <td>...</td>\n",
       "      <td>0.0</td>\n",
       "      <td>0.0</td>\n",
       "      <td>0.0</td>\n",
       "      <td>0.0</td>\n",
       "      <td>0.0</td>\n",
       "      <td>0.0</td>\n",
       "      <td>0.0</td>\n",
       "      <td>0.0</td>\n",
       "      <td>0.0</td>\n",
       "      <td>0.0</td>\n",
       "    </tr>\n",
       "    <tr>\n",
       "      <th>499</th>\n",
       "      <td>3200.0</td>\n",
       "      <td>641.0</td>\n",
       "      <td>4.0</td>\n",
       "      <td>4.0</td>\n",
       "      <td>3.0</td>\n",
       "      <td>0.0</td>\n",
       "      <td>2.0</td>\n",
       "      <td>0.0</td>\n",
       "      <td>0.0</td>\n",
       "      <td>0.0</td>\n",
       "      <td>...</td>\n",
       "      <td>0.0</td>\n",
       "      <td>0.0</td>\n",
       "      <td>0.0</td>\n",
       "      <td>0.0</td>\n",
       "      <td>0.0</td>\n",
       "      <td>0.0</td>\n",
       "      <td>0.0</td>\n",
       "      <td>0.0</td>\n",
       "      <td>0.0</td>\n",
       "      <td>0.0</td>\n",
       "    </tr>\n",
       "  </tbody>\n",
       "</table>\n",
       "<p>500 rows × 123 columns</p>\n",
       "</div>"
      ],
      "text/plain": [
       "     Monthly Income  Credit Score  Years of Employment  Finance Status  \\\n",
       "0           15750.0         750.0                 10.0             3.0   \n",
       "1           15750.0         800.0                  8.0             3.0   \n",
       "2           15750.0         650.0                  5.0             2.0   \n",
       "3           15750.0         900.0                 12.0             5.0   \n",
       "4           15750.0         700.0                 13.5             3.0   \n",
       "..              ...           ...                  ...             ...   \n",
       "495          7000.0         730.0                  5.0             4.0   \n",
       "496          4500.0         680.0                  4.0             4.0   \n",
       "497          5500.0         690.0                  4.0             4.0   \n",
       "498          3500.0         640.0                  3.0             4.0   \n",
       "499          3200.0         641.0                  4.0             4.0   \n",
       "\n",
       "     Finance History  Car  Number of Children  Occupation_Account Executive  \\\n",
       "0                4.0  1.0                 2.0                           0.0   \n",
       "1                4.0  1.0                 1.0                           0.0   \n",
       "2                1.0  0.0                 0.0                           0.0   \n",
       "3                4.0  1.0                 3.0                           0.0   \n",
       "4                1.0  1.0                 2.0                           0.0   \n",
       "..               ...  ...                 ...                           ...   \n",
       "495              3.0  1.0                 0.0                           0.0   \n",
       "496              3.0  1.0                 0.0                           0.0   \n",
       "497              3.0  1.0                 1.0                           0.0   \n",
       "498              3.0  0.0                 1.0                           0.0   \n",
       "499              3.0  0.0                 2.0                           0.0   \n",
       "\n",
       "     Occupation_Account Manager  Occupation_Accountant  ...  \\\n",
       "0                           0.0                    0.0  ...   \n",
       "1                           0.0                    0.0  ...   \n",
       "2                           0.0                    0.0  ...   \n",
       "3                           0.0                    0.0  ...   \n",
       "4                           0.0                    0.0  ...   \n",
       "..                          ...                    ...  ...   \n",
       "495                         0.0                    0.0  ...   \n",
       "496                         0.0                    0.0  ...   \n",
       "497                         0.0                    0.0  ...   \n",
       "498                         0.0                    0.0  ...   \n",
       "499                         0.0                    0.0  ...   \n",
       "\n",
       "     Occupation_Software Dev  Occupation_Software Developer  \\\n",
       "0                        0.0                            0.0   \n",
       "1                        0.0                            0.0   \n",
       "2                        0.0                            0.0   \n",
       "3                        0.0                            0.0   \n",
       "4                        0.0                            0.0   \n",
       "..                       ...                            ...   \n",
       "495                      0.0                            0.0   \n",
       "496                      0.0                            0.0   \n",
       "497                      0.0                            0.0   \n",
       "498                      0.0                            0.0   \n",
       "499                      0.0                            0.0   \n",
       "\n",
       "     Occupation_Software Engineer  Occupation_Teacher  \\\n",
       "0                             0.0                 1.0   \n",
       "1                             0.0                 0.0   \n",
       "2                             0.0                 0.0   \n",
       "3                             0.0                 0.0   \n",
       "4                             0.0                 0.0   \n",
       "..                            ...                 ...   \n",
       "495                           0.0                 0.0   \n",
       "496                           0.0                 0.0   \n",
       "497                           0.0                 0.0   \n",
       "498                           0.0                 0.0   \n",
       "499                           0.0                 0.0   \n",
       "\n",
       "     Occupation_Veterinarian  Occupation_Veterinarian Technician  \\\n",
       "0                        0.0                                 0.0   \n",
       "1                        0.0                                 0.0   \n",
       "2                        0.0                                 0.0   \n",
       "3                        0.0                                 0.0   \n",
       "4                        0.0                                 0.0   \n",
       "..                       ...                                 ...   \n",
       "495                      0.0                                 0.0   \n",
       "496                      0.0                                 0.0   \n",
       "497                      0.0                                 0.0   \n",
       "498                      0.0                                 0.0   \n",
       "499                      0.0                                 0.0   \n",
       "\n",
       "     Occupation_Waiter/Waitress  Occupation_Web Designer  \\\n",
       "0                           0.0                      0.0   \n",
       "1                           0.0                      0.0   \n",
       "2                           0.0                      0.0   \n",
       "3                           0.0                      0.0   \n",
       "4                           0.0                      0.0   \n",
       "..                          ...                      ...   \n",
       "495                         0.0                      0.0   \n",
       "496                         0.0                      0.0   \n",
       "497                         0.0                      0.0   \n",
       "498                         0.0                      0.0   \n",
       "499                         0.0                      0.0   \n",
       "\n",
       "     Occupation_Web Developer  Occupation_Writer  \n",
       "0                         0.0                0.0  \n",
       "1                         0.0                0.0  \n",
       "2                         0.0                0.0  \n",
       "3                         0.0                0.0  \n",
       "4                         0.0                0.0  \n",
       "..                        ...                ...  \n",
       "495                       0.0                0.0  \n",
       "496                       0.0                0.0  \n",
       "497                       0.0                0.0  \n",
       "498                       0.0                0.0  \n",
       "499                       0.0                0.0  \n",
       "\n",
       "[500 rows x 123 columns]"
      ]
     },
     "execution_count": 113,
     "metadata": {},
     "output_type": "execute_result"
    }
   ],
   "source": [
    "df"
   ]
  },
  {
   "cell_type": "code",
   "execution_count": 116,
   "id": "39a77704",
   "metadata": {},
   "outputs": [
    {
     "name": "stdout",
     "output_type": "stream",
     "text": [
      "Monthly_Income:8000\n",
      "Credit_Score:640\n",
      "Years_of_Employment:1\n",
      "Finance_Status:'Fair'\n",
      "Number_of_Children:0\n",
      "Occupation:'Data Scientist'\n",
      "Finance_History:'Good'\n"
     ]
    },
    {
     "name": "stderr",
     "output_type": "stream",
     "text": [
      "C:\\anacondaaa\\lib\\site-packages\\sklearn\\base.py:450: UserWarning: X does not have valid feature names, but PCA was fitted with feature names\n",
      "  warnings.warn(\n",
      "C:\\anacondaaa\\lib\\site-packages\\sklearn\\base.py:450: UserWarning: X does not have valid feature names, but RandomForestClassifier was fitted with feature names\n",
      "  warnings.warn(\n"
     ]
    },
    {
     "data": {
      "text/plain": [
       "0.0"
      ]
     },
     "execution_count": 116,
     "metadata": {},
     "output_type": "execute_result"
    }
   ],
   "source": [
    "user_data = np.zeros(len(x.columns.tolist()))\n",
    "\n",
    "Monthly_Income = eval(input('Monthly_Income:'))\n",
    "Credit_Score = eval(input('Credit_Score:'))\n",
    "Years_of_Employment = eval(input('Years_of_Employment:'))\n",
    "Finance_Status = eval(input('Finance_Status:'))\n",
    "Number_of_Children = int(input('Number_of_Children:'))\n",
    "Occupation = eval(input('Occupation:'))\n",
    "Finance_History = eval(input('Finance_History:'))\n",
    "\n",
    "user_data[0] = Monthly_Income\n",
    "user_data[1] = Credit_Score\n",
    "user_data[2] = Years_of_Employment\n",
    "user_data[3] = project_data['Finance Status'][Finance_Status]\n",
    "user_data[4] = Number_of_Children\n",
    "user_data[5] = project_data['Finance History'][Finance_History]\n",
    "occupation = 'Occupation_'+Occupation\n",
    "index1 = project_data['columns'].index(occupation)           ## list method\n",
    "user_data[index1] = 1\n",
    "\n",
    "\n",
    "\n",
    "pca_trans = pca.transform([user_data])\n",
    "result = rf2.predict(pca_trans)\n",
    "result[0]"
   ]
  },
  {
   "cell_type": "code",
   "execution_count": 115,
   "id": "d6714603",
   "metadata": {},
   "outputs": [
    {
     "name": "stdout",
     "output_type": "stream",
     "text": [
      "[60000.0, 640.0, 1.4, 2.0, 0.0, 3.0, 0.0, 0.0, 0.0, 0.0, 0.0, 0.0, 0.0, 0.0, 0.0, 0.0, 0.0, 0.0, 0.0, 0.0, 0.0, 0.0, 0.0, 0.0, 0.0, 0.0, 0.0, 0.0, 0.0, 0.0, 1.0, 0.0, 0.0, 0.0, 0.0, 0.0, 0.0, 0.0, 0.0, 0.0, 0.0, 0.0, 0.0, 0.0, 0.0, 0.0, 0.0, 0.0, 0.0, 0.0, 0.0, 0.0, 0.0, 0.0, 0.0, 0.0, 0.0, 0.0, 0.0, 0.0, 0.0, 0.0, 0.0, 0.0, 0.0, 0.0, 0.0, 0.0, 0.0, 0.0, 0.0, 0.0, 0.0, 0.0, 0.0, 0.0, 0.0, 0.0, 0.0, 0.0, 0.0, 0.0, 0.0, 0.0, 0.0, 0.0, 0.0, 0.0, 0.0, 0.0, 0.0, 0.0, 0.0, 0.0, 0.0, 0.0, 0.0, 0.0, 0.0, 0.0, 0.0, 0.0, 0.0, 0.0, 0.0, 0.0, 0.0, 0.0, 0.0, 0.0, 0.0, 0.0, 0.0, 0.0, 0.0, 0.0, 0.0, 0.0, 0.0, 0.0, 0.0, 0.0]\n"
     ]
    }
   ],
   "source": [
    "print(user_data.tolist())"
   ]
  },
  {
   "cell_type": "code",
   "execution_count": null,
   "id": "621a404c",
   "metadata": {},
   "outputs": [],
   "source": []
  },
  {
   "cell_type": "code",
   "execution_count": null,
   "id": "d4c78ab4",
   "metadata": {},
   "outputs": [],
   "source": []
  },
  {
   "cell_type": "code",
   "execution_count": null,
   "id": "45bc583e",
   "metadata": {},
   "outputs": [],
   "source": []
  },
  {
   "cell_type": "code",
   "execution_count": null,
   "id": "a7c58a0c",
   "metadata": {},
   "outputs": [],
   "source": []
  },
  {
   "cell_type": "code",
   "execution_count": null,
   "id": "cc23cd51",
   "metadata": {},
   "outputs": [],
   "source": []
  }
 ],
 "metadata": {
  "kernelspec": {
   "display_name": "Python 3 (ipykernel)",
   "language": "python",
   "name": "python3"
  },
  "language_info": {
   "codemirror_mode": {
    "name": "ipython",
    "version": 3
   },
   "file_extension": ".py",
   "mimetype": "text/x-python",
   "name": "python",
   "nbconvert_exporter": "python",
   "pygments_lexer": "ipython3",
   "version": "3.9.12"
  }
 },
 "nbformat": 4,
 "nbformat_minor": 5
}
